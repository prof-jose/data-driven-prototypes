{
 "cells": [
  {
   "cell_type": "markdown",
   "metadata": {},
   "source": [
    "# LLM examples\n",
    "\n",
    "Notebook to illustrate the \n",
    "\n",
    "Learning goals: \n",
    "\n",
    "- Practice different introductory use cases of LLMs\n",
    "\n",
    "## Setup\n",
    "\n",
    "- To run this notebook you will need to create an account in cohere.ai, and get your API Key.\n",
    "- You also need to install the python package `cohere`.\n",
    "\n",
    "## Why cohere? \n",
    "\n",
    "- It was one of the first providers of LLMs as a service, was already in the market before ChatGPT. \n",
    "\n",
    "- Easy to use Python SDK. \n",
    "\n",
    "- A free account gives you access to a Trial API key, which allows 100 calls per minute. \n",
    "\n",
    "- Similar in structure to other APIs and frameworks (if you learn this, you'll navigate the others easily). \n",
    "\n",
    "## Preparing the work\n",
    "\n",
    "Let's initialize the environment:"
   ]
  },
  {
   "cell_type": "code",
   "execution_count": 1,
   "metadata": {},
   "outputs": [],
   "source": [
    "import cohere"
   ]
  },
  {
   "cell_type": "code",
   "execution_count": 2,
   "metadata": {},
   "outputs": [],
   "source": [
    "COHERE_API_KEY = # YOUR API KEY HERE\n",
    "cohere_client = cohere.Client(COHERE_API_KEY)\n"
   ]
  },
  {
   "cell_type": "markdown",
   "metadata": {},
   "source": [
    "## Use case 1: Replacing code\n",
    "\n",
    "We can use LLMs to take actions for us and avoid the alternative of writing code. \n",
    "\n",
    "The example below will ask for a text input by the user. Once introduced, it will classify the language of the text. "
   ]
  },
  {
   "cell_type": "code",
   "execution_count": 3,
   "metadata": {},
   "outputs": [
    {
     "name": "stdout",
     "output_type": "stream",
     "text": [
      "The text is in French.\n"
     ]
    }
   ],
   "source": [
    "new_text = input(\"Enter some text\")\n",
    "prompt = \"Return the language of the following text: \" + new_text\n",
    "\n",
    "response = cohere_client.chat(\n",
    "    chat_history=[],\n",
    "    message=prompt,\n",
    ")\n",
    "\n",
    "language = response.text\n",
    "print(language)"
   ]
  },
  {
   "cell_type": "markdown",
   "metadata": {},
   "source": [
    "You might need a more specific prompt, like one that includes \"reply only with a single word containing the name of the recognized language\" (try that as an exercise). "
   ]
  },
  {
   "cell_type": "markdown",
   "metadata": {},
   "source": [
    "The typical workflow would be to use that output as part of the business logic."
   ]
  },
  {
   "cell_type": "code",
   "execution_count": 4,
   "metadata": {},
   "outputs": [],
   "source": [
    "if language == \"Spanish\":\n",
    "    # Take actions... \n",
    "    pass"
   ]
  },
  {
   "cell_type": "markdown",
   "metadata": {},
   "source": [
    "## Use case 2: Replace an AI model\n",
    "\n",
    "We can use LLMs to \"simulate\" the way AI systems work and provide \"examples\" of what we want to achieve, as part of the prompt. \n",
    "\n",
    "This is know as \"few-shot\", \"in-prompt\" learning. \n",
    "\n",
    "The example below tries to classify the restaurant type based on its name. It does so by preparing a \"template\" of known inputs and outputs, then asking to complete a last input: "
   ]
  },
  {
   "cell_type": "code",
   "execution_count": 5,
   "metadata": {},
   "outputs": [
    {
     "data": {
      "text/plain": [
       "'Name: \"La Taqueria\" Type: \"Mexican\"'"
      ]
     },
     "execution_count": 5,
     "metadata": {},
     "output_type": "execute_result"
    }
   ],
   "source": [
    "prompt2=\"\"\"\n",
    "Classify the restaurant type based on the restaurant name. \n",
    "Complete the following sequence. \n",
    "Name: \"Leche de Tigre\" Type: \"Peruvian\"\n",
    "Name: \"Le Parisien\" Type: \"French\"\n",
    "Name: \"Tapas & Fiesta\" Type: \"Spanish\"\n",
    "Name: \"Rodizio Grill\" Type: \"Brazilian\"\n",
    "Name: \"Shenzen Garden\" Type: \"Chinese\"\n",
    "Name: \"Bella Napoli\" Type: \"Italian\"\n",
    "Name: \"La taqueria Type:\n",
    "\"\"\"\n",
    "\n",
    "response = cohere_client.chat(\n",
    "    chat_history=[],\n",
    "    message=prompt2,\n",
    ")\n",
    "\n",
    "response.text"
   ]
  },
  {
   "cell_type": "markdown",
   "metadata": {},
   "source": [
    "Mind the cost increases with the number of examples. You can get info of the costs:"
   ]
  },
  {
   "cell_type": "code",
   "execution_count": 6,
   "metadata": {},
   "outputs": [
    {
     "name": "stdout",
     "output_type": "stream",
     "text": [
      "{\n",
      "  \"text\": \"Name: \\\"La Taqueria\\\" Type: \\\"Mexican\\\"\",\n",
      "  \"generation_id\": \"8138b375-e39f-4fb5-9b4e-c267c8b55e14\",\n",
      "  \"finish_reason\": \"COMPLETE\",\n",
      "  \"chat_history\": [\n",
      "    {\n",
      "      \"message\": \"\\nClassify the restaurant type based on the restaurant name. \\nComplete the following sequence. \\nName: \\\"Leche de Tigre\\\" Type: \\\"Peruvian\\\"\\nName: \\\"Le Parisien\\\" Type: \\\"French\\\"\\nName: \\\"Tapas & Fiesta\\\" Type: \\\"Spanish\\\"\\nName: \\\"Rodizio Grill\\\" Type: \\\"Brazilian\\\"\\nName: \\\"Shenzen Garden\\\" Type: \\\"Chinese\\\"\\nName: \\\"Bella Napoli\\\" Type: \\\"Italian\\\"\\nName: \\\"La taqueria Type:\\n\",\n",
      "      \"role\": \"USER\"\n",
      "    },\n",
      "    {\n",
      "      \"message\": \"Name: \\\"La Taqueria\\\" Type: \\\"Mexican\\\"\",\n",
      "      \"role\": \"CHATBOT\"\n",
      "    }\n",
      "  ],\n",
      "  \"meta\": {\n",
      "    \"api_version\": {\n",
      "      \"version\": \"1\"\n",
      "    },\n",
      "    \"billed_units\": {\n",
      "      \"input_tokens\": 111,\n",
      "      \"output_tokens\": 13\n",
      "    },\n",
      "    \"tokens\": {\n",
      "      \"input_tokens\": 175,\n",
      "      \"output_tokens\": 13\n",
      "    }\n",
      "  },\n",
      "  \"response_id\": \"bbdc5c10-001f-4d99-9948-f80f431ccbdf\"\n",
      "}\n"
     ]
    }
   ],
   "source": [
    "print(response.json(indent=2))"
   ]
  },
  {
   "cell_type": "markdown",
   "metadata": {},
   "source": [
    "## Use case 3: Labeling / Completion\n",
    "\n",
    "We can use LLMs to add labels to data automatically. \n",
    "\n",
    "The next cell loads data from the Barcelona events API. Later we will ask to tag it with a category. \n",
    "\n"
   ]
  },
  {
   "cell_type": "code",
   "execution_count": 7,
   "metadata": {},
   "outputs": [
    {
     "data": {
      "text/html": [
       "<div>\n",
       "<style scoped>\n",
       "    .dataframe tbody tr th:only-of-type {\n",
       "        vertical-align: middle;\n",
       "    }\n",
       "\n",
       "    .dataframe tbody tr th {\n",
       "        vertical-align: top;\n",
       "    }\n",
       "\n",
       "    .dataframe thead th {\n",
       "        text-align: right;\n",
       "    }\n",
       "</style>\n",
       "<table border=\"1\" class=\"dataframe\">\n",
       "  <thead>\n",
       "    <tr style=\"text-align: right;\">\n",
       "      <th></th>\n",
       "      <th>name</th>\n",
       "      <th>address</th>\n",
       "    </tr>\n",
       "  </thead>\n",
       "  <tbody>\n",
       "    <tr>\n",
       "      <th>94</th>\n",
       "      <td>ACTIVITAT ADAPTADA CASAL ESTIU NEXE FUNDACIO -...</td>\n",
       "      <td>C Escorial, 169</td>\n",
       "    </tr>\n",
       "    <tr>\n",
       "      <th>73</th>\n",
       "      <td>RUTA KÊNDALS ESPLAI MATINADA PÒRTICS, 15-17 AN...</td>\n",
       "      <td></td>\n",
       "    </tr>\n",
       "    <tr>\n",
       "      <th>22</th>\n",
       "      <td>Divendres lúdics de Khan Jugar</td>\n",
       "      <td>Plaça del Sortidor, 12</td>\n",
       "    </tr>\n",
       "    <tr>\n",
       "      <th>7</th>\n",
       "      <td>Grup de suport per a la gent gran</td>\n",
       "      <td>Carrer del Comandant Benítez, 6</td>\n",
       "    </tr>\n",
       "    <tr>\n",
       "      <th>62</th>\n",
       "      <td>Grup d’Ajuda Mutua (GAM) en 1ª Persona</td>\n",
       "      <td>Carrer de Viladomat, 127</td>\n",
       "    </tr>\n",
       "  </tbody>\n",
       "</table>\n",
       "</div>"
      ],
      "text/plain": [
       "                                                 name  \\\n",
       "94  ACTIVITAT ADAPTADA CASAL ESTIU NEXE FUNDACIO -...   \n",
       "73  RUTA KÊNDALS ESPLAI MATINADA PÒRTICS, 15-17 AN...   \n",
       "22                     Divendres lúdics de Khan Jugar   \n",
       "7                   Grup de suport per a la gent gran   \n",
       "62             Grup d’Ajuda Mutua (GAM) en 1ª Persona   \n",
       "\n",
       "                            address  \n",
       "94                  C Escorial, 169  \n",
       "73                                   \n",
       "22           Plaça del Sortidor, 12  \n",
       "7   Carrer del Comandant Benítez, 6  \n",
       "62         Carrer de Viladomat, 127  "
      ]
     },
     "execution_count": 7,
     "metadata": {},
     "output_type": "execute_result"
    }
   ],
   "source": [
    "# Get Barcelona events from API\n",
    "import requests\n",
    "import pandas as pd\n",
    "\n",
    "URL = \"https://opendata-ajuntament.barcelona.cat/data/api/action/datastore_search?resource_id=877ccf66-9106-4ae2-be51-95a9f6469e4c\"\n",
    "data = requests.get(URL).json()\n",
    "\n",
    "# Format events as DataFrame\n",
    "rows = []\n",
    "for record in data['result']['records']:    \n",
    "    name = record['name']\n",
    "    address = record['addresses_road_name']\n",
    "    number = record['addresses_start_street_number']\n",
    "    if number:\n",
    "        address += ', ' + number\n",
    "    rows.append([name, address])\n",
    "\n",
    "events = pd.DataFrame(rows, columns=['name', 'address'])\n",
    "\n",
    "events.sample(5)\n"
   ]
  },
  {
   "cell_type": "code",
   "execution_count": 8,
   "metadata": {},
   "outputs": [
    {
     "data": {
      "text/html": [
       "<div>\n",
       "<style scoped>\n",
       "    .dataframe tbody tr th:only-of-type {\n",
       "        vertical-align: middle;\n",
       "    }\n",
       "\n",
       "    .dataframe tbody tr th {\n",
       "        vertical-align: top;\n",
       "    }\n",
       "\n",
       "    .dataframe thead th {\n",
       "        text-align: right;\n",
       "    }\n",
       "</style>\n",
       "<table border=\"1\" class=\"dataframe\">\n",
       "  <thead>\n",
       "    <tr style=\"text-align: right;\">\n",
       "      <th></th>\n",
       "      <th>name</th>\n",
       "      <th>address</th>\n",
       "      <th>category</th>\n",
       "    </tr>\n",
       "  </thead>\n",
       "  <tbody>\n",
       "    <tr>\n",
       "      <th>81</th>\n",
       "      <td>Espectacle \"Monòlegs del Taller de Monodrama\"</td>\n",
       "      <td>Carrer de Buenaventura Muñoz, 21</td>\n",
       "      <td>Theater</td>\n",
       "    </tr>\n",
       "    <tr>\n",
       "      <th>28</th>\n",
       "      <td>CAMPUS OLÍMPIA POLIESPORTIU 1R - 2N PRIMÀRIA P...</td>\n",
       "      <td>Numància, 142</td>\n",
       "      <td>Sport</td>\n",
       "    </tr>\n",
       "    <tr>\n",
       "      <th>92</th>\n",
       "      <td>CASAL D'ESTIU - BALLEM L'ESTIU! CASAL DE DANSA...</td>\n",
       "      <td>Carrer de Santa Matilde, 23</td>\n",
       "      <td>Family</td>\n",
       "    </tr>\n",
       "    <tr>\n",
       "      <th>61</th>\n",
       "      <td>Taller 'K-Pop'</td>\n",
       "      <td>C Brusi, 51</td>\n",
       "      <td>Music</td>\n",
       "    </tr>\n",
       "    <tr>\n",
       "      <th>22</th>\n",
       "      <td>Divendres lúdics de Khan Jugar</td>\n",
       "      <td>Plaça del Sortidor, 12</td>\n",
       "      <td>Family</td>\n",
       "    </tr>\n",
       "  </tbody>\n",
       "</table>\n",
       "</div>"
      ],
      "text/plain": [
       "                                                 name  \\\n",
       "81      Espectacle \"Monòlegs del Taller de Monodrama\"   \n",
       "28  CAMPUS OLÍMPIA POLIESPORTIU 1R - 2N PRIMÀRIA P...   \n",
       "92  CASAL D'ESTIU - BALLEM L'ESTIU! CASAL DE DANSA...   \n",
       "61                                     Taller 'K-Pop'   \n",
       "22                     Divendres lúdics de Khan Jugar   \n",
       "\n",
       "                             address category  \n",
       "81  Carrer de Buenaventura Muñoz, 21  Theater  \n",
       "28                     Numància, 142    Sport  \n",
       "92       Carrer de Santa Matilde, 23   Family  \n",
       "61                       C Brusi, 51    Music  \n",
       "22            Plaça del Sortidor, 12   Family  "
      ]
     },
     "execution_count": 8,
     "metadata": {},
     "output_type": "execute_result"
    }
   ],
   "source": [
    "# Now for each of the events, apply a LLM to infer a category and \"fill in\" the table.\n",
    "\n",
    "events = events.sample(5)\n",
    "\n",
    "prompt = \"\"\"\n",
    "We have the name of an event in Barcelona (in Catalan).\n",
    "Classify the event type based on this information into one of the following categories:\n",
    "Music, Art, Sport, Cinema, Family, Food, Theater, Exhibitions, Other.\n",
    "Respond with a single word with the category name. \n",
    "Event: \n",
    "\"\"\"\n",
    "\n",
    "\n",
    "categories = []\n",
    "for event in events['name']:\n",
    "    response = cohere_client.chat(\n",
    "        chat_history=[],\n",
    "        message=prompt + event,\n",
    "    )\n",
    "    category = response.text\n",
    "    categories.append(category)\n",
    "\n",
    "events['category'] = categories\n",
    "events"
   ]
  },
  {
   "cell_type": "markdown",
   "metadata": {},
   "source": [
    "## Use case 4: Replacing the user interface\n",
    "\n",
    "Natural language can be the new interface. \n",
    "\n",
    "The example below asks the user to write a text specifying whether to turn the lights on or off.  \n"
   ]
  },
  {
   "cell_type": "code",
   "execution_count": 9,
   "metadata": {},
   "outputs": [
    {
     "data": {
      "application/vnd.jupyter.widget-view+json": {
       "model_id": "41c8034b15524ff0bdf583a4c501e7cd",
       "version_major": 2,
       "version_minor": 0
      },
      "text/plain": [
       "Checkbox(value=False, description='Lights on', indent=False)"
      ]
     },
     "execution_count": 9,
     "metadata": {},
     "output_type": "execute_result"
    }
   ],
   "source": [
    "from ipywidgets import widgets\n",
    "\n",
    "checkbox = widgets.Checkbox(\n",
    "    value=False,\n",
    "    description='Lights on',\n",
    "    disabled=False,\n",
    "    indent=False\n",
    ")\n",
    "checkbox"
   ]
  },
  {
   "cell_type": "code",
   "execution_count": 10,
   "metadata": {},
   "outputs": [
    {
     "name": "stdout",
     "output_type": "stream",
     "text": [
      "(Just for debugging, the output text is true )\n"
     ]
    }
   ],
   "source": [
    "prompt3 = \"\"\"\n",
    "The user will write a text about turning off or on the lights.\n",
    "The user might use different words to describe the action or expressions, \n",
    "like turn on, turn off, activate, deactivate, switch on, switch off, etc.\n",
    "The user might also use different words to describe the lights,\n",
    "like lights, lamps, bulbs, etc.\n",
    "Return a single word: \"true\" if the user wants to turn on the lights, and \"false\" if the user wants to turn them off.\n",
    "\"\"\"\n",
    "\n",
    "user_input = input(\"Enter your message\")\n",
    "response = cohere_client.chat(\n",
    "    message=prompt3 + user_input,\n",
    ")\n",
    "\n",
    "print(\"(Just for debugging, the output text is\", response.text, \")\")\n",
    "\n",
    "if response.text == \"true\":\n",
    "    checkbox.value = True\n",
    "if response.text == \"false\":\n",
    "    checkbox.value = False"
   ]
  },
  {
   "cell_type": "markdown",
   "metadata": {},
   "source": [
    "## Use case 5: Structuring data\n",
    "\n",
    "Use LLMs to extract information and add it to a certain template. \n",
    "\n",
    "The next example simulates a text from a health record and how the system would extract the necessary information into a template. "
   ]
  },
  {
   "cell_type": "code",
   "execution_count": 11,
   "metadata": {},
   "outputs": [
    {
     "name": "stdout",
     "output_type": "stream",
     "text": [
      "{\n",
      "  \"age\": 23,\n",
      "  \"temperature\": \"Not found\",\n",
      "  \"reason for visit\": \"Stomach ache\",\n",
      "  \"tests performed\": [\"Radiography\"],\n",
      "  \"diagnosis\": \"Possible virus\"\n",
      "}\n"
     ]
    }
   ],
   "source": [
    "prompt4 = \"\"\"\n",
    "Here is a text simulating an electronic health record.\n",
    "Extract the information necessary to populate this json object:\n",
    "{\n",
    "  \"age\": X,\n",
    "  \"temperature\": X,\n",
    "  \"reason for visit\": \"X\",\n",
    "  \"tests performed\": [\"X\", \"X\", \"X\"],\n",
    "    \"diagnosis\": \"X\"\n",
    "}\n",
    "If the information is not present, return \"Not found\".\n",
    "Respond only with the json object. \n",
    "Text:\n",
    "\"\"\"\n",
    "\n",
    "user_input = input(\"Enter your message\")\n",
    "\n",
    "response = cohere_client.chat(\n",
    "    message=prompt4 + user_input,\n",
    ")\n",
    "\n",
    "print(response.text)"
   ]
  },
  {
   "cell_type": "markdown",
   "metadata": {},
   "source": [
    "## Use case: Chatbots\n",
    "\n",
    "This iexample illustrates the use of a chatbot, where the intent to be fulfilled is accomplished after several messages, and each message needs to include the previous chat history. \n",
    "\n",
    "Let's do it in the wrong way first: "
   ]
  },
  {
   "cell_type": "code",
   "execution_count": 12,
   "metadata": {},
   "outputs": [
    {
     "name": "stdout",
     "output_type": "stream",
     "text": [
      "I can answer that question if you tell me the person you are referring to.\n"
     ]
    }
   ],
   "source": [
    "response1 = cohere_client.chat(message=\"Who discovered gravity?\")\n",
    "response2 = cohere_client.chat(message=\"What year was he born?\")\n",
    "\n",
    "print(response2.text)"
   ]
  },
  {
   "cell_type": "code",
   "execution_count": 13,
   "metadata": {},
   "outputs": [
    {
     "data": {
      "text/plain": [
       "[Message_User(message='Who discovered gravity?', tool_calls=None, role='USER'),\n",
       " Message_Chatbot(message='The English scientist Sir Isaac Newton discovered gravity in the late 17th century. He introduced the concept in his work \"Philosophiæ Naturalis Principia Mathematica,\" published on July 5, 1687. In this groundbreaking book, Newton presented his three laws of motion, which include the law of universal gravitation.\\n\\nNewton\\'s law of universal gravitation states that every particle of matter in the universe attracts every other particle with a force that is directly proportional to the product of their masses and inversely proportional to the square of the distance between them. Mathematically, this can be represented as:\\n\\nF = G * (m1 * m2) / r^2\\n\\nwhere F is the force between two objects, m1 and m2 are their masses, r is the distance between their centers, and G is the gravitational constant.\\n\\nNewton\\'s discovery of gravity was a significant breakthrough in our understanding of the universe and laid the foundation for classical mechanics. It explained a wide range of phenomena, from the motion of planets to the behavior of objects on Earth.', tool_calls=None, role='CHATBOT')]"
      ]
     },
     "execution_count": 13,
     "metadata": {},
     "output_type": "execute_result"
    }
   ],
   "source": [
    "response1.chat_history"
   ]
  },
  {
   "cell_type": "markdown",
   "metadata": {},
   "source": [
    "We need to add the previous chat history, that was stored already in the response json:"
   ]
  },
  {
   "cell_type": "code",
   "execution_count": 14,
   "metadata": {},
   "outputs": [
    {
     "name": "stdout",
     "output_type": "stream",
     "text": [
      "Sir Isaac Newton was born in Woolsthorpe, Lincolnshire, England, on December 25, 1642, according to the Julian calendar in use at the time, which is equivalent to January 4, 1643, in the Gregorian calendar that we use today. He was born during a period of great political and scientific change, and his contributions to the fields of mathematics, physics, and astronomy would go on to have a profound impact on the scientific revolution.\n",
      "\n",
      "Newton came from a humble background, and he showed great intellectual promise from an early age. Despite facing challenges and setbacks, including the closure of his school due to the plague, he went on to study at the University of Cambridge, where he made many of his groundbreaking discoveries.\n",
      "\n",
      "His birth year, 1642, is often considered a pivotal year in the history of science, as it also marks the year of Galileo Galilei's death and the year in which René Descartes published his influential work \"Meditations on First Philosophy.\" This coincidence of events underscores the significance of Newton's life and contributions to the advancement of scientific knowledge.\n"
     ]
    }
   ],
   "source": [
    "response = cohere_client.chat(\n",
    "    chat_history=response1.chat_history,\n",
    "    message=\"What year was he born?\",\n",
    ")\n",
    "print(response.text)\n"
   ]
  }
 ],
 "metadata": {
  "kernelspec": {
   "display_name": ".venv",
   "language": "python",
   "name": "python3"
  },
  "language_info": {
   "codemirror_mode": {
    "name": "ipython",
    "version": 3
   },
   "file_extension": ".py",
   "mimetype": "text/x-python",
   "name": "python",
   "nbconvert_exporter": "python",
   "pygments_lexer": "ipython3",
   "version": "3.9.6"
  }
 },
 "nbformat": 4,
 "nbformat_minor": 2
}
