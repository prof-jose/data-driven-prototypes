{
 "cells": [
  {
   "attachments": {},
   "cell_type": "markdown",
   "metadata": {},
   "source": [
    "# Finding similar texts with embeddings\n",
    "\n",
    "* Area: Data-driven prototypes.\n",
    "* Learning objectives: \n",
    "  * Practice sentence embeddings\n",
    "  * Understand retrieval-augmented generation\n",
    "  * Understand vector databases\n",
    "\n",
    "\n"
   ]
  },
  {
   "attachments": {},
   "cell_type": "markdown",
   "metadata": {},
   "source": [
    "## Data preparation\n",
    "Load hotel review data. "
   ]
  },
  {
   "cell_type": "code",
   "execution_count": 1,
   "metadata": {},
   "outputs": [
    {
     "data": {
      "text/html": [
       "<div>\n",
       "<style scoped>\n",
       "    .dataframe tbody tr th:only-of-type {\n",
       "        vertical-align: middle;\n",
       "    }\n",
       "\n",
       "    .dataframe tbody tr th {\n",
       "        vertical-align: top;\n",
       "    }\n",
       "\n",
       "    .dataframe thead th {\n",
       "        text-align: right;\n",
       "    }\n",
       "</style>\n",
       "<table border=\"1\" class=\"dataframe\">\n",
       "  <thead>\n",
       "    <tr style=\"text-align: right;\">\n",
       "      <th></th>\n",
       "      <th>Hotel_Address</th>\n",
       "      <th>Additional_Number_of_Scoring</th>\n",
       "      <th>Review_Date</th>\n",
       "      <th>Average_Score</th>\n",
       "      <th>Hotel_Name</th>\n",
       "      <th>Reviewer_Nationality</th>\n",
       "      <th>Negative_Review</th>\n",
       "      <th>Review_Total_Negative_Word_Counts</th>\n",
       "      <th>Total_Number_of_Reviews</th>\n",
       "      <th>Positive_Review</th>\n",
       "      <th>Review_Total_Positive_Word_Counts</th>\n",
       "      <th>Total_Number_of_Reviews_Reviewer_Has_Given</th>\n",
       "      <th>Reviewer_Score</th>\n",
       "      <th>Tags</th>\n",
       "      <th>days_since_review</th>\n",
       "      <th>lat</th>\n",
       "      <th>lng</th>\n",
       "    </tr>\n",
       "  </thead>\n",
       "  <tbody>\n",
       "    <tr>\n",
       "      <th>0</th>\n",
       "      <td>s Gravesandestraat 55 Oost 1092 AA Amsterdam ...</td>\n",
       "      <td>194</td>\n",
       "      <td>8/3/2017</td>\n",
       "      <td>7.7</td>\n",
       "      <td>Hotel Arena</td>\n",
       "      <td>Russia</td>\n",
       "      <td>I am so angry that i made this post available...</td>\n",
       "      <td>397</td>\n",
       "      <td>1403</td>\n",
       "      <td>Only the park outside of the hotel was beauti...</td>\n",
       "      <td>11</td>\n",
       "      <td>7</td>\n",
       "      <td>2.9</td>\n",
       "      <td>[' Leisure trip ', ' Couple ', ' Duplex Double...</td>\n",
       "      <td>0 days</td>\n",
       "      <td>52.360576</td>\n",
       "      <td>4.915968</td>\n",
       "    </tr>\n",
       "    <tr>\n",
       "      <th>1</th>\n",
       "      <td>s Gravesandestraat 55 Oost 1092 AA Amsterdam ...</td>\n",
       "      <td>194</td>\n",
       "      <td>8/3/2017</td>\n",
       "      <td>7.7</td>\n",
       "      <td>Hotel Arena</td>\n",
       "      <td>Ireland</td>\n",
       "      <td>No Negative</td>\n",
       "      <td>0</td>\n",
       "      <td>1403</td>\n",
       "      <td>No real complaints the hotel was great great ...</td>\n",
       "      <td>105</td>\n",
       "      <td>7</td>\n",
       "      <td>7.5</td>\n",
       "      <td>[' Leisure trip ', ' Couple ', ' Duplex Double...</td>\n",
       "      <td>0 days</td>\n",
       "      <td>52.360576</td>\n",
       "      <td>4.915968</td>\n",
       "    </tr>\n",
       "    <tr>\n",
       "      <th>2</th>\n",
       "      <td>s Gravesandestraat 55 Oost 1092 AA Amsterdam ...</td>\n",
       "      <td>194</td>\n",
       "      <td>7/31/2017</td>\n",
       "      <td>7.7</td>\n",
       "      <td>Hotel Arena</td>\n",
       "      <td>Australia</td>\n",
       "      <td>Rooms are nice but for elderly a bit difficul...</td>\n",
       "      <td>42</td>\n",
       "      <td>1403</td>\n",
       "      <td>Location was good and staff were ok It is cut...</td>\n",
       "      <td>21</td>\n",
       "      <td>9</td>\n",
       "      <td>7.1</td>\n",
       "      <td>[' Leisure trip ', ' Family with young childre...</td>\n",
       "      <td>3 days</td>\n",
       "      <td>52.360576</td>\n",
       "      <td>4.915968</td>\n",
       "    </tr>\n",
       "    <tr>\n",
       "      <th>3</th>\n",
       "      <td>s Gravesandestraat 55 Oost 1092 AA Amsterdam ...</td>\n",
       "      <td>194</td>\n",
       "      <td>7/31/2017</td>\n",
       "      <td>7.7</td>\n",
       "      <td>Hotel Arena</td>\n",
       "      <td>United Kingdom</td>\n",
       "      <td>My room was dirty and I was afraid to walk ba...</td>\n",
       "      <td>210</td>\n",
       "      <td>1403</td>\n",
       "      <td>Great location in nice surroundings the bar a...</td>\n",
       "      <td>26</td>\n",
       "      <td>1</td>\n",
       "      <td>3.8</td>\n",
       "      <td>[' Leisure trip ', ' Solo traveler ', ' Duplex...</td>\n",
       "      <td>3 days</td>\n",
       "      <td>52.360576</td>\n",
       "      <td>4.915968</td>\n",
       "    </tr>\n",
       "    <tr>\n",
       "      <th>4</th>\n",
       "      <td>s Gravesandestraat 55 Oost 1092 AA Amsterdam ...</td>\n",
       "      <td>194</td>\n",
       "      <td>7/24/2017</td>\n",
       "      <td>7.7</td>\n",
       "      <td>Hotel Arena</td>\n",
       "      <td>New Zealand</td>\n",
       "      <td>You When I booked with your company on line y...</td>\n",
       "      <td>140</td>\n",
       "      <td>1403</td>\n",
       "      <td>Amazing location and building Romantic setting</td>\n",
       "      <td>8</td>\n",
       "      <td>3</td>\n",
       "      <td>6.7</td>\n",
       "      <td>[' Leisure trip ', ' Couple ', ' Suite ', ' St...</td>\n",
       "      <td>10 days</td>\n",
       "      <td>52.360576</td>\n",
       "      <td>4.915968</td>\n",
       "    </tr>\n",
       "    <tr>\n",
       "      <th>5</th>\n",
       "      <td>s Gravesandestraat 55 Oost 1092 AA Amsterdam ...</td>\n",
       "      <td>194</td>\n",
       "      <td>7/24/2017</td>\n",
       "      <td>7.7</td>\n",
       "      <td>Hotel Arena</td>\n",
       "      <td>Poland</td>\n",
       "      <td>Backyard of the hotel is total mess shouldn t...</td>\n",
       "      <td>17</td>\n",
       "      <td>1403</td>\n",
       "      <td>Good restaurant with modern design great chil...</td>\n",
       "      <td>20</td>\n",
       "      <td>1</td>\n",
       "      <td>6.7</td>\n",
       "      <td>[' Leisure trip ', ' Group ', ' Duplex Double ...</td>\n",
       "      <td>10 days</td>\n",
       "      <td>52.360576</td>\n",
       "      <td>4.915968</td>\n",
       "    </tr>\n",
       "    <tr>\n",
       "      <th>6</th>\n",
       "      <td>s Gravesandestraat 55 Oost 1092 AA Amsterdam ...</td>\n",
       "      <td>194</td>\n",
       "      <td>7/17/2017</td>\n",
       "      <td>7.7</td>\n",
       "      <td>Hotel Arena</td>\n",
       "      <td>United Kingdom</td>\n",
       "      <td>Cleaner did not change our sheet and duvet ev...</td>\n",
       "      <td>33</td>\n",
       "      <td>1403</td>\n",
       "      <td>The room is spacious and bright The hotel is ...</td>\n",
       "      <td>18</td>\n",
       "      <td>6</td>\n",
       "      <td>4.6</td>\n",
       "      <td>[' Leisure trip ', ' Group ', ' Duplex Twin Ro...</td>\n",
       "      <td>17 days</td>\n",
       "      <td>52.360576</td>\n",
       "      <td>4.915968</td>\n",
       "    </tr>\n",
       "    <tr>\n",
       "      <th>7</th>\n",
       "      <td>s Gravesandestraat 55 Oost 1092 AA Amsterdam ...</td>\n",
       "      <td>194</td>\n",
       "      <td>7/17/2017</td>\n",
       "      <td>7.7</td>\n",
       "      <td>Hotel Arena</td>\n",
       "      <td>United Kingdom</td>\n",
       "      <td>Apart from the price for the brekfast Everyth...</td>\n",
       "      <td>11</td>\n",
       "      <td>1403</td>\n",
       "      <td>Good location Set in a lovely park friendly s...</td>\n",
       "      <td>19</td>\n",
       "      <td>1</td>\n",
       "      <td>10.0</td>\n",
       "      <td>[' Leisure trip ', ' Couple ', ' Duplex Double...</td>\n",
       "      <td>17 days</td>\n",
       "      <td>52.360576</td>\n",
       "      <td>4.915968</td>\n",
       "    </tr>\n",
       "    <tr>\n",
       "      <th>8</th>\n",
       "      <td>s Gravesandestraat 55 Oost 1092 AA Amsterdam ...</td>\n",
       "      <td>194</td>\n",
       "      <td>7/9/2017</td>\n",
       "      <td>7.7</td>\n",
       "      <td>Hotel Arena</td>\n",
       "      <td>Belgium</td>\n",
       "      <td>Even though the pictures show very clean room...</td>\n",
       "      <td>34</td>\n",
       "      <td>1403</td>\n",
       "      <td>No Positive</td>\n",
       "      <td>0</td>\n",
       "      <td>3</td>\n",
       "      <td>6.5</td>\n",
       "      <td>[' Leisure trip ', ' Couple ', ' Duplex Double...</td>\n",
       "      <td>25 days</td>\n",
       "      <td>52.360576</td>\n",
       "      <td>4.915968</td>\n",
       "    </tr>\n",
       "    <tr>\n",
       "      <th>9</th>\n",
       "      <td>s Gravesandestraat 55 Oost 1092 AA Amsterdam ...</td>\n",
       "      <td>194</td>\n",
       "      <td>7/8/2017</td>\n",
       "      <td>7.7</td>\n",
       "      <td>Hotel Arena</td>\n",
       "      <td>Norway</td>\n",
       "      <td>The aircondition makes so much noise and its ...</td>\n",
       "      <td>15</td>\n",
       "      <td>1403</td>\n",
       "      <td>The room was big enough and the bed is good T...</td>\n",
       "      <td>50</td>\n",
       "      <td>1</td>\n",
       "      <td>7.9</td>\n",
       "      <td>[' Leisure trip ', ' Couple ', ' Large King Ro...</td>\n",
       "      <td>26 days</td>\n",
       "      <td>52.360576</td>\n",
       "      <td>4.915968</td>\n",
       "    </tr>\n",
       "  </tbody>\n",
       "</table>\n",
       "</div>"
      ],
      "text/plain": [
       "                                       Hotel_Address  \\\n",
       "0   s Gravesandestraat 55 Oost 1092 AA Amsterdam ...   \n",
       "1   s Gravesandestraat 55 Oost 1092 AA Amsterdam ...   \n",
       "2   s Gravesandestraat 55 Oost 1092 AA Amsterdam ...   \n",
       "3   s Gravesandestraat 55 Oost 1092 AA Amsterdam ...   \n",
       "4   s Gravesandestraat 55 Oost 1092 AA Amsterdam ...   \n",
       "5   s Gravesandestraat 55 Oost 1092 AA Amsterdam ...   \n",
       "6   s Gravesandestraat 55 Oost 1092 AA Amsterdam ...   \n",
       "7   s Gravesandestraat 55 Oost 1092 AA Amsterdam ...   \n",
       "8   s Gravesandestraat 55 Oost 1092 AA Amsterdam ...   \n",
       "9   s Gravesandestraat 55 Oost 1092 AA Amsterdam ...   \n",
       "\n",
       "   Additional_Number_of_Scoring Review_Date  Average_Score   Hotel_Name  \\\n",
       "0                           194    8/3/2017            7.7  Hotel Arena   \n",
       "1                           194    8/3/2017            7.7  Hotel Arena   \n",
       "2                           194   7/31/2017            7.7  Hotel Arena   \n",
       "3                           194   7/31/2017            7.7  Hotel Arena   \n",
       "4                           194   7/24/2017            7.7  Hotel Arena   \n",
       "5                           194   7/24/2017            7.7  Hotel Arena   \n",
       "6                           194   7/17/2017            7.7  Hotel Arena   \n",
       "7                           194   7/17/2017            7.7  Hotel Arena   \n",
       "8                           194    7/9/2017            7.7  Hotel Arena   \n",
       "9                           194    7/8/2017            7.7  Hotel Arena   \n",
       "\n",
       "  Reviewer_Nationality                                    Negative_Review  \\\n",
       "0              Russia    I am so angry that i made this post available...   \n",
       "1             Ireland                                         No Negative   \n",
       "2           Australia    Rooms are nice but for elderly a bit difficul...   \n",
       "3      United Kingdom    My room was dirty and I was afraid to walk ba...   \n",
       "4         New Zealand    You When I booked with your company on line y...   \n",
       "5              Poland    Backyard of the hotel is total mess shouldn t...   \n",
       "6      United Kingdom    Cleaner did not change our sheet and duvet ev...   \n",
       "7      United Kingdom    Apart from the price for the brekfast Everyth...   \n",
       "8             Belgium    Even though the pictures show very clean room...   \n",
       "9              Norway    The aircondition makes so much noise and its ...   \n",
       "\n",
       "   Review_Total_Negative_Word_Counts  Total_Number_of_Reviews  \\\n",
       "0                                397                     1403   \n",
       "1                                  0                     1403   \n",
       "2                                 42                     1403   \n",
       "3                                210                     1403   \n",
       "4                                140                     1403   \n",
       "5                                 17                     1403   \n",
       "6                                 33                     1403   \n",
       "7                                 11                     1403   \n",
       "8                                 34                     1403   \n",
       "9                                 15                     1403   \n",
       "\n",
       "                                     Positive_Review  \\\n",
       "0   Only the park outside of the hotel was beauti...   \n",
       "1   No real complaints the hotel was great great ...   \n",
       "2   Location was good and staff were ok It is cut...   \n",
       "3   Great location in nice surroundings the bar a...   \n",
       "4    Amazing location and building Romantic setting    \n",
       "5   Good restaurant with modern design great chil...   \n",
       "6   The room is spacious and bright The hotel is ...   \n",
       "7   Good location Set in a lovely park friendly s...   \n",
       "8                                        No Positive   \n",
       "9   The room was big enough and the bed is good T...   \n",
       "\n",
       "   Review_Total_Positive_Word_Counts  \\\n",
       "0                                 11   \n",
       "1                                105   \n",
       "2                                 21   \n",
       "3                                 26   \n",
       "4                                  8   \n",
       "5                                 20   \n",
       "6                                 18   \n",
       "7                                 19   \n",
       "8                                  0   \n",
       "9                                 50   \n",
       "\n",
       "   Total_Number_of_Reviews_Reviewer_Has_Given  Reviewer_Score  \\\n",
       "0                                           7             2.9   \n",
       "1                                           7             7.5   \n",
       "2                                           9             7.1   \n",
       "3                                           1             3.8   \n",
       "4                                           3             6.7   \n",
       "5                                           1             6.7   \n",
       "6                                           6             4.6   \n",
       "7                                           1            10.0   \n",
       "8                                           3             6.5   \n",
       "9                                           1             7.9   \n",
       "\n",
       "                                                Tags days_since_review  \\\n",
       "0  [' Leisure trip ', ' Couple ', ' Duplex Double...            0 days   \n",
       "1  [' Leisure trip ', ' Couple ', ' Duplex Double...            0 days   \n",
       "2  [' Leisure trip ', ' Family with young childre...            3 days   \n",
       "3  [' Leisure trip ', ' Solo traveler ', ' Duplex...            3 days   \n",
       "4  [' Leisure trip ', ' Couple ', ' Suite ', ' St...           10 days   \n",
       "5  [' Leisure trip ', ' Group ', ' Duplex Double ...           10 days   \n",
       "6  [' Leisure trip ', ' Group ', ' Duplex Twin Ro...           17 days   \n",
       "7  [' Leisure trip ', ' Couple ', ' Duplex Double...           17 days   \n",
       "8  [' Leisure trip ', ' Couple ', ' Duplex Double...           25 days   \n",
       "9  [' Leisure trip ', ' Couple ', ' Large King Ro...           26 days   \n",
       "\n",
       "         lat       lng  \n",
       "0  52.360576  4.915968  \n",
       "1  52.360576  4.915968  \n",
       "2  52.360576  4.915968  \n",
       "3  52.360576  4.915968  \n",
       "4  52.360576  4.915968  \n",
       "5  52.360576  4.915968  \n",
       "6  52.360576  4.915968  \n",
       "7  52.360576  4.915968  \n",
       "8  52.360576  4.915968  \n",
       "9  52.360576  4.915968  "
      ]
     },
     "execution_count": 1,
     "metadata": {},
     "output_type": "execute_result"
    }
   ],
   "source": [
    "import pandas as pd\n",
    "\n",
    "df = pd.read_csv('~/data/Hotel_Reviews.csv')\n",
    "df.head(10)"
   ]
  },
  {
   "attachments": {},
   "cell_type": "markdown",
   "metadata": {},
   "source": [
    "## Part 1: Working with embeddings\n",
    "\n",
    "### First: Bag of words representation\n",
    "\n",
    "We want to extract a representation from the positive reviews of the hotels. Let's try with the common Bag-of-Words first:"
   ]
  },
  {
   "cell_type": "code",
   "execution_count": 2,
   "metadata": {},
   "outputs": [
    {
     "data": {
      "text/plain": [
       "(515738, 8783)"
      ]
     },
     "execution_count": 2,
     "metadata": {},
     "output_type": "execute_result"
    }
   ],
   "source": [
    "from sklearn.feature_extraction.text import CountVectorizer\n",
    "\n",
    "vectorizer = CountVectorizer(min_df=10, max_df = 0.8, stop_words='english')\n",
    "vectors = vectorizer.fit_transform(df.Positive_Review)\n",
    "vectors.shape"
   ]
  },
  {
   "attachments": {},
   "cell_type": "markdown",
   "metadata": {},
   "source": [
    "We get a representation based on word counts. Is is fixed-length but has two problems: \n",
    "\n",
    "1) It needs one entry per word, thus leading to large sizes (8783). \n",
    "2) Counting words is not the most \"semantic\" representation (two sentences could be similar in meaning and still have different words). \n"
   ]
  },
  {
   "attachments": {},
   "cell_type": "markdown",
   "metadata": {},
   "source": [
    "### Introducing Sentence Transformers\n",
    "\n",
    "Sentence Transformers are a type of models (and the name of the  corresponding python package) that allows extracting a sentence embedding. \n",
    "\n",
    "Its python implementation is straightforward. We import the library and initialize the `SentenceTransformer` object. \n",
    "\n",
    "The argument to `SentenceTransformer` is the name of the model. The chosen model `'all-MiniLM-L6-v2'` is one of the simplest, but you can use other models from the HuggingFace model hub. \n",
    "\n",
    "See [sbert](https://www.sbert.net/) for documentation and other names. "
   ]
  },
  {
   "cell_type": "code",
   "execution_count": 3,
   "metadata": {},
   "outputs": [
    {
     "name": "stderr",
     "output_type": "stream",
     "text": [
      "/Users/joseantonio.rodriguez15/code/data-driven-prototypes/.venv/lib/python3.9/site-packages/sentence_transformers/cross_encoder/CrossEncoder.py:11: TqdmExperimentalWarning: Using `tqdm.autonotebook.tqdm` in notebook mode. Use `tqdm.tqdm` instead to force console mode (e.g. in jupyter console)\n",
      "  from tqdm.autonotebook import tqdm, trange\n",
      "/Users/joseantonio.rodriguez15/code/data-driven-prototypes/.venv/lib/python3.9/site-packages/huggingface_hub/file_download.py:1132: FutureWarning: `resume_download` is deprecated and will be removed in version 1.0.0. Downloads always resume when possible. If you want to force a new download, use `force_download=True`.\n",
      "  warnings.warn(\n"
     ]
    }
   ],
   "source": [
    "from sentence_transformers import SentenceTransformer\n",
    "model = SentenceTransformer('all-MiniLM-L6-v2')"
   ]
  },
  {
   "cell_type": "markdown",
   "metadata": {},
   "source": [
    "Then, `model.encode` is computing the embeddings. \n",
    "\n",
    "For those who are familiar with neural networks, this is doing a forward pass. Behind the scenes, it is using the `pytorch` package to load and evaluate the models. "
   ]
  },
  {
   "cell_type": "code",
   "execution_count": 4,
   "metadata": {},
   "outputs": [
    {
     "data": {
      "application/vnd.jupyter.widget-view+json": {
       "model_id": "d085ed2e581d4b9cb2d0761dd70f8aa1",
       "version_major": 2,
       "version_minor": 0
      },
      "text/plain": [
       "Batches:   0%|          | 0/16117 [00:00<?, ?it/s]"
      ]
     },
     "metadata": {},
     "output_type": "display_data"
    }
   ],
   "source": [
    "# This will take a few minutes \n",
    "embeddings = model.encode(df.Positive_Review, show_progress_bar=True)"
   ]
  },
  {
   "cell_type": "markdown",
   "metadata": {},
   "source": [
    "See how the shape of the embeddings is much smaller (384):"
   ]
  },
  {
   "cell_type": "code",
   "execution_count": 5,
   "metadata": {},
   "outputs": [
    {
     "data": {
      "text/plain": [
       "(515738, 384)"
      ]
     },
     "execution_count": 5,
     "metadata": {},
     "output_type": "execute_result"
    }
   ],
   "source": [
    "embeddings.shape"
   ]
  },
  {
   "cell_type": "markdown",
   "metadata": {},
   "source": [
    "### Test if similar embeddings lead to similar texts\n",
    "\n",
    "To that end, we write a small python function that computes a similarity function between the embedding of a given sentence, and all the embeddings in the data. "
   ]
  },
  {
   "cell_type": "code",
   "execution_count": 6,
   "metadata": {},
   "outputs": [],
   "source": [
    "from scipy.spatial.distance import cdist\n",
    "import numpy as np\n",
    "\n",
    "def print_top_N(vectors, id, N=10):\n",
    "    \"\"\"\n",
    "    Print the top N closest reviews to the review at index id\n",
    "    \n",
    "    vectors: np.array\n",
    "        The vectors to search\n",
    "    id: int\n",
    "        The index of the review to search for\n",
    "    N: int\n",
    "        The number of reviews to print\n",
    "    \"\"\"\n",
    "    distances = cdist(vectors[id,:].reshape(1,-1), vectors, 'cosine')\n",
    "    top10 = np.argsort(distances)[0][1:(N+1)]\n",
    "\n",
    "    print(f\"Orig: {df.Positive_Review.values[id]}\")\n",
    "    print(\"-\"*(len(df.Positive_Review.values[id])+6))\n",
    "    for i, idx in enumerate(top10):\n",
    "        print(f\"Top {i}: {df.Positive_Review.values[idx]}\")\n"
   ]
  },
  {
   "cell_type": "code",
   "execution_count": 7,
   "metadata": {},
   "outputs": [
    {
     "name": "stdout",
     "output_type": "stream",
     "text": [
      "Orig:  Location was good and staff were ok It is cute hotel the breakfast range is nice Will go back \n",
      "-----------------------------------------------------------------------------------------------------\n",
      "Top 0:  The staff especially at the breakfast were fantastic The hotel in general is good with very good location\n",
      "Top 1:  Perfect location staff was really friendly and helpful Breakfast was delicious with loads of different choices Will definitely be back Really great hotel \n",
      "Top 2:  Location is excellent The staff were friendly and the breakfast was vey good \n",
      "Top 3:  The location is really good and staffs are really kind Breakfast was okay \n",
      "Top 4:  Location is very nice and staff is friendly the breakfast was good as well \n",
      "Top 5:  Location is very good and extremely helpful staff breakfast was okay the hotel was everything it described it would be \n",
      "Top 6:  Great location Staff was very friendly and helpful Hotel breakfast was very good \n",
      "Top 7:  Location was great breakfast very good Staff friendly \n",
      "Top 8:  Great location helpful staff breakfasts were lovely and the hotel was spot on Would recommend to anyone \n",
      "Top 9:  The staff were lovely and accommodating the location is great and breakfast is very good \n"
     ]
    }
   ],
   "source": [
    "print_top_N(embeddings, 2)"
   ]
  },
  {
   "cell_type": "markdown",
   "metadata": {},
   "source": [
    "## Part 2: Simulating RAG\n",
    "\n",
    "In this part, we will simulate RAG by  designing a prompting strategy and manually computing the most similar entries to the query. "
   ]
  },
  {
   "cell_type": "code",
   "execution_count": 8,
   "metadata": {},
   "outputs": [],
   "source": [
    "import cohere\n",
    "COHERE_API_KEY = \"your-key\"\n",
    "cohere_client = cohere.Client(COHERE_API_KEY)"
   ]
  },
  {
   "cell_type": "markdown",
   "metadata": {},
   "source": [
    "First, let's consider a query such as the following. \n",
    "\n",
    "Note that Cohere also provides embedding methods! Probably the embedding coming from a LLM is better than the \"small\" SentenceTransformer model we used. \n",
    "\n",
    "The `embed` function from the Cohere SDK and specify as type `search_query`. We're chosing an embedding suitable to do similarity search (other embeddings exist for classification, for instance). "
   ]
  },
  {
   "cell_type": "code",
   "execution_count": 9,
   "metadata": {},
   "outputs": [],
   "source": [
    "query_message = \"I love this product\"\n",
    "response = cohere_client.embed(texts=[query_message], model=\"embed-english-v3.0\", input_type=\"search_query\")"
   ]
  },
  {
   "cell_type": "markdown",
   "metadata": {},
   "source": [
    "This one has a larger size. "
   ]
  },
  {
   "cell_type": "code",
   "execution_count": 10,
   "metadata": {},
   "outputs": [
    {
     "data": {
      "text/plain": [
       "1024"
      ]
     },
     "execution_count": 10,
     "metadata": {},
     "output_type": "execute_result"
    }
   ],
   "source": [
    "len(response.embeddings[0])"
   ]
  },
  {
   "cell_type": "markdown",
   "metadata": {},
   "source": [
    "For the example, we'll go for the sentence transformer, otherwise this will imply sending 500K elements to the LLM. \n",
    "\n",
    "In this example we'll simulate the RAG. Note the strategy is very similar to that of Tools in notebook `5_llms/chat_with_query.ipynb`.\n",
    "\n",
    "In the first call, we understand whether we need to answer, or gather more information:"
   ]
  },
  {
   "cell_type": "code",
   "execution_count": 11,
   "metadata": {},
   "outputs": [],
   "source": [
    "prompt = \"\"\"\n",
    "The user is going to ask a question. You should respond normally.\n",
    "However, if the user asks for hotels with good reviews in a certain\n",
    "category, respond REQUEST_HOTEL and then a description of the information. For example,\n",
    "if the user asks for \"hotels with good breakfast and service\",\n",
    "you should respond \"REQUEST_HOTEL: good breakfast and service\".\n",
    "The message by the user is: \n",
    "\"\"\"\n",
    "\n",
    "user_request = input(\"What is your request? \")\n",
    "\n",
    "response = cohere_client.chat(\n",
    "    message=prompt + user_request,\n",
    ")"
   ]
  },
  {
   "cell_type": "code",
   "execution_count": 12,
   "metadata": {},
   "outputs": [
    {
     "data": {
      "text/plain": [
       "'REQUEST_HOTEL: Good breakfast and orange juice.'"
      ]
     },
     "execution_count": 12,
     "metadata": {},
     "output_type": "execute_result"
    }
   ],
   "source": [
    "response.text"
   ]
  },
  {
   "cell_type": "markdown",
   "metadata": {},
   "source": [
    "In the second call, we invoke the LLM with additional information from the texts most similar to the query: "
   ]
  },
  {
   "cell_type": "code",
   "execution_count": 13,
   "metadata": {},
   "outputs": [
    {
     "name": "stdout",
     "output_type": "stream",
     "text": [
      "Second prompt (for debugging):\n",
      "Here are some reviews of specific hotels:\n",
      "Hotel: Best Western Premier Hotel Couture\n",
      "Review:  Breakfast is good Fresh orange juice \n",
      "\n",
      "Hotel: The Queens Gate Hotel\n",
      "Review:  Fantastic fresh orange juice at breakfast and good variety of food \n",
      "\n",
      "Hotel: Best Western Premier Hotel Couture\n",
      "Review:  breakfast very good with huge choice really enjoyed freshly squeezed orange juice \n",
      "\n",
      "Hotel: Brunelleschi Hotel\n",
      "Review:  real fresh orange juice at breakfast\n",
      "\n",
      "Hotel: Bcn Urban Hotels Gran Rosellon\n",
      "Review:  Real orange juice in the breakfast \n",
      "\n",
      "Hotel: The Queens Gate Hotel\n",
      "Review:  Great breakfasts with fresh squeezed orange juice \n",
      "\n",
      "Hotel: Worldhotel Cristoforo Colombo\n",
      "Review:  Nice and professional stuff Freshly squeezed orange juice for breakfast daily \n",
      "\n",
      "Hotel: DoubleTree by Hilton London Docklands Riverside\n",
      "Review:  All you can eat breakfast with readily available fresh orange juice\n",
      "\n",
      "Hotel: H tel des Champs Elys es\n",
      "Review:  Quiet room Reasonable breakfast with great fresh orange juice\n",
      "\n",
      "Hotel: Atahotel Contessa Jolanda\n",
      "Review:  Good breakfast with sausages cheese orange juice magnificent\n",
      "\n",
      "\n"
     ]
    }
   ],
   "source": [
    "parts = response.text.split(\":\")\n",
    "if parts[0] == \"REQUEST_HOTEL\":\n",
    "    # Perform search\n",
    "    query = parts[1]\n",
    "    # Compute the embedding of the query\n",
    "    query_vector = model.encode([query])\n",
    "    # Compute all distances and get top 10\n",
    "    distances = cdist(query_vector, embeddings, 'cosine')\n",
    "    top10 = np.argsort(distances)[0][0:10]\n",
    "\n",
    "    # Show the top 10 (just for control)\n",
    "    second_prompt = \"Here are some reviews of specific hotels:\\n\"\n",
    "    for idx in top10:\n",
    "        # Add positive review and hotel name to response\n",
    "        second_prompt += f\"Hotel: {df.Hotel_Name.values[idx]}\\n\"\n",
    "        second_prompt += f\"Review: {df.Positive_Review.values[idx]}\\n\\n\"\n",
    "    print(\"Second prompt (for debugging):\")\n",
    "    print(second_prompt)\n",
    "\n",
    "    # Eventually do the second call with all the information:\n",
    "    response2 = cohere_client.chat(\n",
    "        message=\"Now respond to the original request of the user, but take into account the following information:\\n\" + second_prompt,\n",
    "        chat_history=response.chat_history,\n",
    "    )"
   ]
  },
  {
   "cell_type": "markdown",
   "metadata": {},
   "source": [
    "Inspect the response:"
   ]
  },
  {
   "cell_type": "code",
   "execution_count": 14,
   "metadata": {},
   "outputs": [
    {
     "data": {
      "text/plain": [
       "\"I can recommend several hotels that fit your criteria of offering a good breakfast with fresh orange juice, based on the reviews I've seen:\\n\\n- The Queens Gate Hotel: Multiple reviews highlight the fantastic fresh orange juice and a good variety of food at breakfast.\\n- Best Western Premier Hotel Couture: Guests have praised the very good breakfast with a huge choice, including freshly squeezed orange juice.\\n- Worldhotel Cristoforo Colombo: This hotel offers freshly squeezed orange juice at breakfast, and guests have also commended the nice and professional staff.\\n- DoubleTree by Hilton London Docklands Riverside: Features an all-you-can-eat breakfast with readily available fresh orange juice.\\n- H tel des Champs Elys es: Reviewers have noted a reasonable breakfast with great fresh orange juice, along with quiet rooms.\\n- Atahotel Contessa Jolanda: Known for its good breakfast, including items like sausages, cheese, and magnificent orange juice.\\n- Brunelleschi Hotel and Bcn Urban Hotels Gran Rosellon: Both hotels have been praised for offering real fresh orange juice at breakfast.\\n\\nSo, these hotels seem to align with your request for good breakfast options featuring fresh orange juice.\""
      ]
     },
     "execution_count": 14,
     "metadata": {},
     "output_type": "execute_result"
    }
   ],
   "source": [
    "response2.text"
   ]
  },
  {
   "cell_type": "markdown",
   "metadata": {},
   "source": [
    "## Part 3: Introducing Vector Databases\n",
    "\n",
    "This part will briefly illustrate the concept of vector databases. While we kept the texts in memory and used `cdist` to compute the similarities, this is not scalable when you have longer embeddings and millions of texts. \n",
    "\n",
    "Vector databases allow indexing embeddings so that they can be retrieved with similarity queries efficiently.\n",
    "\n",
    "They can also encode other information in the database other from the embedding itself. \n",
    "\n",
    "We will illustrate Qdrant, one of the most popular vector databases right now. To follow this example, you'll need to create a Docker image according to the instructions [in the Qdrant documentation](https://qdrant.tech/documentation/quick-start/). \n",
    "\n",
    "If you don't have docker, just think it's a way to simulate a server that contains the vector database (inside your own machine) and that the server has an API to insert and retrieve data. \n",
    "\n",
    "Once the docker container is running, you can use the following code. This will connect to the database: "
   ]
  },
  {
   "cell_type": "code",
   "execution_count": 15,
   "metadata": {},
   "outputs": [
    {
     "data": {
      "text/plain": [
       "True"
      ]
     },
     "execution_count": 15,
     "metadata": {},
     "output_type": "execute_result"
    }
   ],
   "source": [
    "from qdrant_client import QdrantClient\n",
    "from qdrant_client.models import Distance, VectorParams\n",
    "\n",
    "client = QdrantClient(\"http://localhost:6333\")\n",
    "\n",
    "client.create_collection(\n",
    "    \"hotel_reviews\",\n",
    "    vectors_config=VectorParams(size=384, distance=Distance.COSINE)\n",
    ")"
   ]
  },
  {
   "cell_type": "markdown",
   "metadata": {},
   "source": [
    "This prepares the information in the format needed to be inserted in the database. Note: \n",
    "- We only insert a few (for running this example in a reasonable time). Inserting can take some time.\n",
    "- We can use the `payload` parameter to insert additional data in the form of a dictionary."
   ]
  },
  {
   "cell_type": "code",
   "execution_count": 16,
   "metadata": {},
   "outputs": [],
   "source": [
    "from qdrant_client.models import PointStruct\n",
    "\n",
    "points = [\n",
    "    \n",
    "    PointStruct(id=i, vector=embeddings[i].tolist(), payload={\"text\": df.Positive_Review[i], \"hotel_name\": df.Hotel_Name[i]})\n",
    "    for i in range(1000)\n",
    "    \n",
    "]"
   ]
  },
  {
   "cell_type": "markdown",
   "metadata": {},
   "source": [
    "And this eventually performs the insert operation: "
   ]
  },
  {
   "cell_type": "code",
   "execution_count": 17,
   "metadata": {},
   "outputs": [],
   "source": [
    "opinfo = client.upsert(\n",
    "    collection_name=\"hotel_reviews\",\n",
    "    wait=True,\n",
    "    points=points\n",
    ")"
   ]
  },
  {
   "cell_type": "markdown",
   "metadata": {},
   "source": [
    "Once the vectors are inserted, we can perform a query with a new vector: "
   ]
  },
  {
   "cell_type": "code",
   "execution_count": 18,
   "metadata": {},
   "outputs": [],
   "source": [
    "query_embedding = model.encode([\"I love hotels with great orange juice for breakfast\"])\n",
    "search_result = client.search(\n",
    "    collection_name=\"hotel_reviews\",\n",
    "    query_vector=query_embedding.tolist()[0],\n",
    "    limit=5\n",
    ")"
   ]
  }
 ],
 "metadata": {
  "kernelspec": {
   "display_name": ".env_tf",
   "language": "python",
   "name": "python3"
  },
  "language_info": {
   "codemirror_mode": {
    "name": "ipython",
    "version": 3
   },
   "file_extension": ".py",
   "mimetype": "text/x-python",
   "name": "python",
   "nbconvert_exporter": "python",
   "pygments_lexer": "ipython3",
   "version": "3.9.6"
  },
  "orig_nbformat": 4
 },
 "nbformat": 4,
 "nbformat_minor": 2
}
