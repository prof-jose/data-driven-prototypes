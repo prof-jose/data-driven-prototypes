{
 "cells": [
  {
   "cell_type": "markdown",
   "metadata": {},
   "source": [
    "# Model call\n",
    "\n",
    "Simple notebook example to illustrate calling a pre-trained model which was saved using joblib."
   ]
  },
  {
   "cell_type": "code",
   "execution_count": 13,
   "metadata": {},
   "outputs": [],
   "source": [
    "import joblib\n",
    "import pandas as pd"
   ]
  },
  {
   "cell_type": "markdown",
   "metadata": {},
   "source": [
    "Load the saved model. (You need to run `python model_training.py` first). "
   ]
  },
  {
   "cell_type": "code",
   "execution_count": 14,
   "metadata": {},
   "outputs": [],
   "source": [
    "pipeline = joblib.load('pipeline.joblib')"
   ]
  },
  {
   "cell_type": "markdown",
   "metadata": {},
   "source": [
    "Create a function that calls the `pipeline.predict` method with the input data"
   ]
  },
  {
   "cell_type": "code",
   "execution_count": 15,
   "metadata": {},
   "outputs": [],
   "source": [
    "COLNAMES = [\n",
    "    'surface_reelle_bati',\n",
    "    'nombre_pieces_principales',\n",
    "    'code_postal',\n",
    "    'total_surface_lots'\n",
    "    ]\n",
    "\n",
    "def predict(surface_reelle_bati, nombre_pieces_principales, code_postal, total_surface_lots):\n",
    "    \"\"\"\n",
    "    Call the pipeline to predict the price of a house.\n",
    "    \"\"\"\n",
    "    # Format as dataframe (needed for the pipeline)\n",
    "    X = [[surface_reelle_bati,nombre_pieces_principales,code_postal,total_surface_lots]]\n",
    "    X = pd.DataFrame(X, columns=COLNAMES)\n",
    "    \n",
    "    return pipeline.predict(X)[0]"
   ]
  },
  {
   "cell_type": "markdown",
   "metadata": {},
   "source": [
    "Example of prediction:"
   ]
  },
  {
   "cell_type": "code",
   "execution_count": 17,
   "metadata": {},
   "outputs": [
    {
     "data": {
      "text/plain": [
       "911746.97"
      ]
     },
     "execution_count": 17,
     "metadata": {},
     "output_type": "execute_result"
    }
   ],
   "source": [
    "predict(100, 3, 75013, 100)"
   ]
  }
 ],
 "metadata": {
  "kernelspec": {
   "display_name": ".venv",
   "language": "python",
   "name": "python3"
  },
  "language_info": {
   "codemirror_mode": {
    "name": "ipython",
    "version": 3
   },
   "file_extension": ".py",
   "mimetype": "text/x-python",
   "name": "python",
   "nbconvert_exporter": "python",
   "pygments_lexer": "ipython3",
   "version": "3.9.6"
  }
 },
 "nbformat": 4,
 "nbformat_minor": 2
}
