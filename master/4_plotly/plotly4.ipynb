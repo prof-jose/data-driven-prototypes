{
 "cells": [
  {
   "cell_type": "markdown",
   "metadata": {},
   "source": [
    "## Interactivity in plotly\n",
    "\n",
    "The goal of this notebook is to understand basic interactivity in plotly, ie the capability to update a plot based on mouse events on the same plot. \n",
    "\n",
    "## Setup environment\n",
    "\n",
    "For this example, we'll use the same data as in examples 1 and 3. "
   ]
  },
  {
   "cell_type": "code",
   "execution_count": 1,
   "metadata": {},
   "outputs": [],
   "source": [
    "import plotly.graph_objects as go\n",
    "import pandas as pd"
   ]
  },
  {
   "cell_type": "code",
   "execution_count": 2,
   "metadata": {},
   "outputs": [],
   "source": [
    "FILE = \"~/data/ElectricVehicle.xlsx\""
   ]
  },
  {
   "cell_type": "code",
   "execution_count": 3,
   "metadata": {},
   "outputs": [
    {
     "data": {
      "text/html": [
       "<div>\n",
       "<style scoped>\n",
       "    .dataframe tbody tr th:only-of-type {\n",
       "        vertical-align: middle;\n",
       "    }\n",
       "\n",
       "    .dataframe tbody tr th {\n",
       "        vertical-align: top;\n",
       "    }\n",
       "\n",
       "    .dataframe thead th {\n",
       "        text-align: right;\n",
       "    }\n",
       "</style>\n",
       "<table border=\"1\" class=\"dataframe\">\n",
       "  <thead>\n",
       "    <tr style=\"text-align: right;\">\n",
       "      <th></th>\n",
       "      <th>distance_electric</th>\n",
       "      <th>fuel</th>\n",
       "      <th>electric</th>\n",
       "      <th>total_distance</th>\n",
       "      <th>speed</th>\n",
       "      <th>energy_recovered</th>\n",
       "      <th>charge</th>\n",
       "    </tr>\n",
       "  </thead>\n",
       "  <tbody>\n",
       "    <tr>\n",
       "      <th>0</th>\n",
       "      <td>27.7</td>\n",
       "      <td>0.3</td>\n",
       "      <td>12.0</td>\n",
       "      <td>29.4</td>\n",
       "      <td>43.3</td>\n",
       "      <td>NaN</td>\n",
       "      <td>0.942177</td>\n",
       "    </tr>\n",
       "    <tr>\n",
       "      <th>1</th>\n",
       "      <td>24.1</td>\n",
       "      <td>0.5</td>\n",
       "      <td>14.9</td>\n",
       "      <td>24.9</td>\n",
       "      <td>14.1</td>\n",
       "      <td>NaN</td>\n",
       "      <td>0.967871</td>\n",
       "    </tr>\n",
       "    <tr>\n",
       "      <th>2</th>\n",
       "      <td>1.9</td>\n",
       "      <td>4.7</td>\n",
       "      <td>3.2</td>\n",
       "      <td>21.9</td>\n",
       "      <td>22.4</td>\n",
       "      <td>NaN</td>\n",
       "      <td>0.086758</td>\n",
       "    </tr>\n",
       "    <tr>\n",
       "      <th>3</th>\n",
       "      <td>0.1</td>\n",
       "      <td>5.9</td>\n",
       "      <td>5.6</td>\n",
       "      <td>21.8</td>\n",
       "      <td>16.8</td>\n",
       "      <td>2.1</td>\n",
       "      <td>0.004587</td>\n",
       "    </tr>\n",
       "    <tr>\n",
       "      <th>4</th>\n",
       "      <td>2.1</td>\n",
       "      <td>4.7</td>\n",
       "      <td>3.8</td>\n",
       "      <td>32.5</td>\n",
       "      <td>19.1</td>\n",
       "      <td>3.1</td>\n",
       "      <td>0.064615</td>\n",
       "    </tr>\n",
       "  </tbody>\n",
       "</table>\n",
       "</div>"
      ],
      "text/plain": [
       "   distance_electric  fuel  electric  total_distance  speed  energy_recovered  \\\n",
       "0               27.7   0.3      12.0            29.4   43.3               NaN   \n",
       "1               24.1   0.5      14.9            24.9   14.1               NaN   \n",
       "2                1.9   4.7       3.2            21.9   22.4               NaN   \n",
       "3                0.1   5.9       5.6            21.8   16.8               2.1   \n",
       "4                2.1   4.7       3.8            32.5   19.1               3.1   \n",
       "\n",
       "     charge  \n",
       "0  0.942177  \n",
       "1  0.967871  \n",
       "2  0.086758  \n",
       "3  0.004587  \n",
       "4  0.064615  "
      ]
     },
     "execution_count": 3,
     "metadata": {},
     "output_type": "execute_result"
    }
   ],
   "source": [
    "df = pd.read_excel(FILE)\n",
    "df.columns = ['distance_electric', 'fuel', 'electric', 'total_distance', 'speed', 'energy_recovered']\n",
    "df['charge'] = df.distance_electric / df.total_distance\n",
    "df.head()"
   ]
  },
  {
   "cell_type": "markdown",
   "metadata": {},
   "source": [
    "## Use case: clustering\n",
    "\n",
    "Let's perform a clustering of the data using sklearn. "
   ]
  },
  {
   "cell_type": "code",
   "execution_count": 4,
   "metadata": {},
   "outputs": [],
   "source": [
    "from sklearn.cluster import KMeans\n",
    "\n",
    "kmeans = KMeans(n_clusters=3)\n",
    "kmeans.fit(df[['charge', 'electric']])\n",
    "\n",
    "clusters = kmeans.predict(df[['charge', 'electric']])\n",
    "df['cluster'] = clusters"
   ]
  },
  {
   "cell_type": "markdown",
   "metadata": {},
   "source": [
    "## Plotting the clusters\n",
    "\n",
    "We can produce a scatterplot in plotly where the color indicates the cluster number: "
   ]
  },
  {
   "cell_type": "code",
   "execution_count": 6,
   "metadata": {},
   "outputs": [
    {
     "data": {
      "application/vnd.plotly.v1+json": {
       "config": {
        "plotlyServerURL": "https://plot.ly"
       },
       "data": [
        {
         "marker": {
          "color": [
           2,
           2,
           1,
           1,
           1,
           1,
           2,
           0,
           0,
           1,
           1,
           1,
           0,
           1,
           0,
           1,
           1,
           2,
           2,
           0,
           2,
           0,
           2,
           0,
           1,
           1,
           1,
           1,
           0,
           0,
           2,
           0,
           1,
           2,
           0,
           2,
           1,
           1,
           1,
           2,
           0,
           0,
           2
          ],
          "line": {
           "color": "blue",
           "width": 2
          },
          "size": 8
         },
         "mode": "markers",
         "type": "scatter",
         "x": [
          0.9421768707482994,
          0.9678714859437753,
          0.0867579908675799,
          0.0045871559633027525,
          0.06461538461538462,
          0,
          0.8138528138528138,
          0.5036855036855037,
          0.4428923582580115,
          0.00847457627118644,
          0,
          0.014539579967689823,
          0.3933933933933934,
          0,
          0.5888501742160278,
          0,
          0,
          0.9206896551724137,
          1,
          0.08370044052863437,
          0.9708454810495627,
          0.24444444444444444,
          0.997275204359673,
          0.468975468975469,
          0.02912621359223301,
          0.018480492813141687,
          0,
          0.08962264150943396,
          0.4633642930856553,
          0.4271685761047463,
          0.9442508710801395,
          0.31391402714932126,
          0.2537517053206003,
          0.46818923327895595,
          0.16305021698698077,
          0.6115107913669064,
          0.013768115942028985,
          0.03301127214170692,
          0.0042780748663101605,
          0.8972602739726028,
          0.5071225071225072,
          0.6283185840707964,
          0.806853582554517
         ],
         "y": [
          12,
          14.9,
          3.2,
          5.6,
          3.8,
          3.6,
          12,
          9,
          8.8,
          5,
          4.7,
          3.6,
          9.5,
          1.3,
          10,
          4.3,
          2.4,
          11.7,
          14.1,
          7.4,
          14,
          7.9,
          13.8,
          10.6,
          4.9,
          4.4,
          3.5,
          3.3,
          10.6,
          10,
          12.2,
          9.4,
          6.1,
          12.5,
          6.7,
          13.1,
          4.1,
          2.9,
          4.9,
          17.8,
          9.1,
          8.9,
          12.3
         ]
        }
       ],
       "layout": {
        "template": {
         "data": {
          "bar": [
           {
            "error_x": {
             "color": "#2a3f5f"
            },
            "error_y": {
             "color": "#2a3f5f"
            },
            "marker": {
             "line": {
              "color": "#E5ECF6",
              "width": 0.5
             },
             "pattern": {
              "fillmode": "overlay",
              "size": 10,
              "solidity": 0.2
             }
            },
            "type": "bar"
           }
          ],
          "barpolar": [
           {
            "marker": {
             "line": {
              "color": "#E5ECF6",
              "width": 0.5
             },
             "pattern": {
              "fillmode": "overlay",
              "size": 10,
              "solidity": 0.2
             }
            },
            "type": "barpolar"
           }
          ],
          "carpet": [
           {
            "aaxis": {
             "endlinecolor": "#2a3f5f",
             "gridcolor": "white",
             "linecolor": "white",
             "minorgridcolor": "white",
             "startlinecolor": "#2a3f5f"
            },
            "baxis": {
             "endlinecolor": "#2a3f5f",
             "gridcolor": "white",
             "linecolor": "white",
             "minorgridcolor": "white",
             "startlinecolor": "#2a3f5f"
            },
            "type": "carpet"
           }
          ],
          "choropleth": [
           {
            "colorbar": {
             "outlinewidth": 0,
             "ticks": ""
            },
            "type": "choropleth"
           }
          ],
          "contour": [
           {
            "colorbar": {
             "outlinewidth": 0,
             "ticks": ""
            },
            "colorscale": [
             [
              0,
              "#0d0887"
             ],
             [
              0.1111111111111111,
              "#46039f"
             ],
             [
              0.2222222222222222,
              "#7201a8"
             ],
             [
              0.3333333333333333,
              "#9c179e"
             ],
             [
              0.4444444444444444,
              "#bd3786"
             ],
             [
              0.5555555555555556,
              "#d8576b"
             ],
             [
              0.6666666666666666,
              "#ed7953"
             ],
             [
              0.7777777777777778,
              "#fb9f3a"
             ],
             [
              0.8888888888888888,
              "#fdca26"
             ],
             [
              1,
              "#f0f921"
             ]
            ],
            "type": "contour"
           }
          ],
          "contourcarpet": [
           {
            "colorbar": {
             "outlinewidth": 0,
             "ticks": ""
            },
            "type": "contourcarpet"
           }
          ],
          "heatmap": [
           {
            "colorbar": {
             "outlinewidth": 0,
             "ticks": ""
            },
            "colorscale": [
             [
              0,
              "#0d0887"
             ],
             [
              0.1111111111111111,
              "#46039f"
             ],
             [
              0.2222222222222222,
              "#7201a8"
             ],
             [
              0.3333333333333333,
              "#9c179e"
             ],
             [
              0.4444444444444444,
              "#bd3786"
             ],
             [
              0.5555555555555556,
              "#d8576b"
             ],
             [
              0.6666666666666666,
              "#ed7953"
             ],
             [
              0.7777777777777778,
              "#fb9f3a"
             ],
             [
              0.8888888888888888,
              "#fdca26"
             ],
             [
              1,
              "#f0f921"
             ]
            ],
            "type": "heatmap"
           }
          ],
          "heatmapgl": [
           {
            "colorbar": {
             "outlinewidth": 0,
             "ticks": ""
            },
            "colorscale": [
             [
              0,
              "#0d0887"
             ],
             [
              0.1111111111111111,
              "#46039f"
             ],
             [
              0.2222222222222222,
              "#7201a8"
             ],
             [
              0.3333333333333333,
              "#9c179e"
             ],
             [
              0.4444444444444444,
              "#bd3786"
             ],
             [
              0.5555555555555556,
              "#d8576b"
             ],
             [
              0.6666666666666666,
              "#ed7953"
             ],
             [
              0.7777777777777778,
              "#fb9f3a"
             ],
             [
              0.8888888888888888,
              "#fdca26"
             ],
             [
              1,
              "#f0f921"
             ]
            ],
            "type": "heatmapgl"
           }
          ],
          "histogram": [
           {
            "marker": {
             "pattern": {
              "fillmode": "overlay",
              "size": 10,
              "solidity": 0.2
             }
            },
            "type": "histogram"
           }
          ],
          "histogram2d": [
           {
            "colorbar": {
             "outlinewidth": 0,
             "ticks": ""
            },
            "colorscale": [
             [
              0,
              "#0d0887"
             ],
             [
              0.1111111111111111,
              "#46039f"
             ],
             [
              0.2222222222222222,
              "#7201a8"
             ],
             [
              0.3333333333333333,
              "#9c179e"
             ],
             [
              0.4444444444444444,
              "#bd3786"
             ],
             [
              0.5555555555555556,
              "#d8576b"
             ],
             [
              0.6666666666666666,
              "#ed7953"
             ],
             [
              0.7777777777777778,
              "#fb9f3a"
             ],
             [
              0.8888888888888888,
              "#fdca26"
             ],
             [
              1,
              "#f0f921"
             ]
            ],
            "type": "histogram2d"
           }
          ],
          "histogram2dcontour": [
           {
            "colorbar": {
             "outlinewidth": 0,
             "ticks": ""
            },
            "colorscale": [
             [
              0,
              "#0d0887"
             ],
             [
              0.1111111111111111,
              "#46039f"
             ],
             [
              0.2222222222222222,
              "#7201a8"
             ],
             [
              0.3333333333333333,
              "#9c179e"
             ],
             [
              0.4444444444444444,
              "#bd3786"
             ],
             [
              0.5555555555555556,
              "#d8576b"
             ],
             [
              0.6666666666666666,
              "#ed7953"
             ],
             [
              0.7777777777777778,
              "#fb9f3a"
             ],
             [
              0.8888888888888888,
              "#fdca26"
             ],
             [
              1,
              "#f0f921"
             ]
            ],
            "type": "histogram2dcontour"
           }
          ],
          "mesh3d": [
           {
            "colorbar": {
             "outlinewidth": 0,
             "ticks": ""
            },
            "type": "mesh3d"
           }
          ],
          "parcoords": [
           {
            "line": {
             "colorbar": {
              "outlinewidth": 0,
              "ticks": ""
             }
            },
            "type": "parcoords"
           }
          ],
          "pie": [
           {
            "automargin": true,
            "type": "pie"
           }
          ],
          "scatter": [
           {
            "fillpattern": {
             "fillmode": "overlay",
             "size": 10,
             "solidity": 0.2
            },
            "type": "scatter"
           }
          ],
          "scatter3d": [
           {
            "line": {
             "colorbar": {
              "outlinewidth": 0,
              "ticks": ""
             }
            },
            "marker": {
             "colorbar": {
              "outlinewidth": 0,
              "ticks": ""
             }
            },
            "type": "scatter3d"
           }
          ],
          "scattercarpet": [
           {
            "marker": {
             "colorbar": {
              "outlinewidth": 0,
              "ticks": ""
             }
            },
            "type": "scattercarpet"
           }
          ],
          "scattergeo": [
           {
            "marker": {
             "colorbar": {
              "outlinewidth": 0,
              "ticks": ""
             }
            },
            "type": "scattergeo"
           }
          ],
          "scattergl": [
           {
            "marker": {
             "colorbar": {
              "outlinewidth": 0,
              "ticks": ""
             }
            },
            "type": "scattergl"
           }
          ],
          "scattermapbox": [
           {
            "marker": {
             "colorbar": {
              "outlinewidth": 0,
              "ticks": ""
             }
            },
            "type": "scattermapbox"
           }
          ],
          "scatterpolar": [
           {
            "marker": {
             "colorbar": {
              "outlinewidth": 0,
              "ticks": ""
             }
            },
            "type": "scatterpolar"
           }
          ],
          "scatterpolargl": [
           {
            "marker": {
             "colorbar": {
              "outlinewidth": 0,
              "ticks": ""
             }
            },
            "type": "scatterpolargl"
           }
          ],
          "scatterternary": [
           {
            "marker": {
             "colorbar": {
              "outlinewidth": 0,
              "ticks": ""
             }
            },
            "type": "scatterternary"
           }
          ],
          "surface": [
           {
            "colorbar": {
             "outlinewidth": 0,
             "ticks": ""
            },
            "colorscale": [
             [
              0,
              "#0d0887"
             ],
             [
              0.1111111111111111,
              "#46039f"
             ],
             [
              0.2222222222222222,
              "#7201a8"
             ],
             [
              0.3333333333333333,
              "#9c179e"
             ],
             [
              0.4444444444444444,
              "#bd3786"
             ],
             [
              0.5555555555555556,
              "#d8576b"
             ],
             [
              0.6666666666666666,
              "#ed7953"
             ],
             [
              0.7777777777777778,
              "#fb9f3a"
             ],
             [
              0.8888888888888888,
              "#fdca26"
             ],
             [
              1,
              "#f0f921"
             ]
            ],
            "type": "surface"
           }
          ],
          "table": [
           {
            "cells": {
             "fill": {
              "color": "#EBF0F8"
             },
             "line": {
              "color": "white"
             }
            },
            "header": {
             "fill": {
              "color": "#C8D4E3"
             },
             "line": {
              "color": "white"
             }
            },
            "type": "table"
           }
          ]
         },
         "layout": {
          "annotationdefaults": {
           "arrowcolor": "#2a3f5f",
           "arrowhead": 0,
           "arrowwidth": 1
          },
          "autotypenumbers": "strict",
          "coloraxis": {
           "colorbar": {
            "outlinewidth": 0,
            "ticks": ""
           }
          },
          "colorscale": {
           "diverging": [
            [
             0,
             "#8e0152"
            ],
            [
             0.1,
             "#c51b7d"
            ],
            [
             0.2,
             "#de77ae"
            ],
            [
             0.3,
             "#f1b6da"
            ],
            [
             0.4,
             "#fde0ef"
            ],
            [
             0.5,
             "#f7f7f7"
            ],
            [
             0.6,
             "#e6f5d0"
            ],
            [
             0.7,
             "#b8e186"
            ],
            [
             0.8,
             "#7fbc41"
            ],
            [
             0.9,
             "#4d9221"
            ],
            [
             1,
             "#276419"
            ]
           ],
           "sequential": [
            [
             0,
             "#0d0887"
            ],
            [
             0.1111111111111111,
             "#46039f"
            ],
            [
             0.2222222222222222,
             "#7201a8"
            ],
            [
             0.3333333333333333,
             "#9c179e"
            ],
            [
             0.4444444444444444,
             "#bd3786"
            ],
            [
             0.5555555555555556,
             "#d8576b"
            ],
            [
             0.6666666666666666,
             "#ed7953"
            ],
            [
             0.7777777777777778,
             "#fb9f3a"
            ],
            [
             0.8888888888888888,
             "#fdca26"
            ],
            [
             1,
             "#f0f921"
            ]
           ],
           "sequentialminus": [
            [
             0,
             "#0d0887"
            ],
            [
             0.1111111111111111,
             "#46039f"
            ],
            [
             0.2222222222222222,
             "#7201a8"
            ],
            [
             0.3333333333333333,
             "#9c179e"
            ],
            [
             0.4444444444444444,
             "#bd3786"
            ],
            [
             0.5555555555555556,
             "#d8576b"
            ],
            [
             0.6666666666666666,
             "#ed7953"
            ],
            [
             0.7777777777777778,
             "#fb9f3a"
            ],
            [
             0.8888888888888888,
             "#fdca26"
            ],
            [
             1,
             "#f0f921"
            ]
           ]
          },
          "colorway": [
           "#636efa",
           "#EF553B",
           "#00cc96",
           "#ab63fa",
           "#FFA15A",
           "#19d3f3",
           "#FF6692",
           "#B6E880",
           "#FF97FF",
           "#FECB52"
          ],
          "font": {
           "color": "#2a3f5f"
          },
          "geo": {
           "bgcolor": "white",
           "lakecolor": "white",
           "landcolor": "#E5ECF6",
           "showlakes": true,
           "showland": true,
           "subunitcolor": "white"
          },
          "hoverlabel": {
           "align": "left"
          },
          "hovermode": "closest",
          "mapbox": {
           "style": "light"
          },
          "paper_bgcolor": "white",
          "plot_bgcolor": "#E5ECF6",
          "polar": {
           "angularaxis": {
            "gridcolor": "white",
            "linecolor": "white",
            "ticks": ""
           },
           "bgcolor": "#E5ECF6",
           "radialaxis": {
            "gridcolor": "white",
            "linecolor": "white",
            "ticks": ""
           }
          },
          "scene": {
           "xaxis": {
            "backgroundcolor": "#E5ECF6",
            "gridcolor": "white",
            "gridwidth": 2,
            "linecolor": "white",
            "showbackground": true,
            "ticks": "",
            "zerolinecolor": "white"
           },
           "yaxis": {
            "backgroundcolor": "#E5ECF6",
            "gridcolor": "white",
            "gridwidth": 2,
            "linecolor": "white",
            "showbackground": true,
            "ticks": "",
            "zerolinecolor": "white"
           },
           "zaxis": {
            "backgroundcolor": "#E5ECF6",
            "gridcolor": "white",
            "gridwidth": 2,
            "linecolor": "white",
            "showbackground": true,
            "ticks": "",
            "zerolinecolor": "white"
           }
          },
          "shapedefaults": {
           "line": {
            "color": "#2a3f5f"
           }
          },
          "ternary": {
           "aaxis": {
            "gridcolor": "white",
            "linecolor": "white",
            "ticks": ""
           },
           "baxis": {
            "gridcolor": "white",
            "linecolor": "white",
            "ticks": ""
           },
           "bgcolor": "#E5ECF6",
           "caxis": {
            "gridcolor": "white",
            "linecolor": "white",
            "ticks": ""
           }
          },
          "title": {
           "x": 0.05
          },
          "xaxis": {
           "automargin": true,
           "gridcolor": "white",
           "linecolor": "white",
           "ticks": "",
           "title": {
            "standoff": 15
           },
           "zerolinecolor": "white",
           "zerolinewidth": 2
          },
          "yaxis": {
           "automargin": true,
           "gridcolor": "white",
           "linecolor": "white",
           "ticks": "",
           "title": {
            "standoff": 15
           },
           "zerolinecolor": "white",
           "zerolinewidth": 2
          }
         }
        },
        "title": {
         "text": "Electric Vehicle"
        },
        "xaxis": {
         "title": {
          "text": "Initial charge"
         }
        },
        "yaxis": {
         "title": {
          "text": "Electric consumption (kWh/100km)"
         }
        }
       }
      }
     },
     "metadata": {},
     "output_type": "display_data"
    }
   ],
   "source": [
    "figure = go.Figure(\n",
    "    go.Scatter(\n",
    "        x=df.charge,\n",
    "        y=df.electric,\n",
    "        mode='markers',\n",
    "        marker=dict(\n",
    "            size=8,\n",
    "            color=df.cluster,\n",
    "            line=dict(\n",
    "                width=2,\n",
    "                color='blue'\n",
    "            )\n",
    "        ),\n",
    "    )   \n",
    ")\n",
    "figure.update_layout(\n",
    "    title='Electric Vehicle',\n",
    "    xaxis_title='Initial charge',\n",
    "    yaxis_title='Electric consumption (kWh/100km)'\n",
    ")\n",
    "\n",
    "\n"
   ]
  },
  {
   "cell_type": "markdown",
   "metadata": {},
   "source": [
    "## Callbacks\n",
    "\n",
    "Say we now want to highlight the clusters in an interactive way.\n",
    "\n",
    "Each time the mouse moves over a point, its cluster should be highlighted (and the other clusters \"turned off\"). \n",
    "\n",
    "This can be useful for a dashboard for data exploration or in a business understanding task. \n",
    "\n",
    "### Method\n",
    "\n",
    "- To add interactivity to a plotly plot, we can use a special type of figure object, `go.FigureWidget`. \n",
    "- It includes methods to specify what happens for certain mouse events, such as `on_click` or `on_hover`. \n",
    "- The argument for these function is the name of another function (sometimes known as callback). \n",
    "- The signature of the callback function is `function_name(trace, points, selector)`. `trace`, `points` and `selector` can be used to track different values related to the mouse event. For example, `points` is a structure that contains information about the points of the plot involved in the event. In the following example, `points.inds` is a list of the indices all the points involved in the event (in that case there should be only 1 point). \n",
    "- The context manager `batch_update` will apply updates to the plot as needed but only render the plot when finished, avoiding to render the plot for each change. "
   ]
  },
  {
   "cell_type": "code",
   "execution_count": 7,
   "metadata": {},
   "outputs": [
    {
     "data": {
      "text/html": [
       "<div>\n",
       "<style scoped>\n",
       "    .dataframe tbody tr th:only-of-type {\n",
       "        vertical-align: middle;\n",
       "    }\n",
       "\n",
       "    .dataframe tbody tr th {\n",
       "        vertical-align: top;\n",
       "    }\n",
       "\n",
       "    .dataframe thead th {\n",
       "        text-align: right;\n",
       "    }\n",
       "</style>\n",
       "<table border=\"1\" class=\"dataframe\">\n",
       "  <thead>\n",
       "    <tr style=\"text-align: right;\">\n",
       "      <th></th>\n",
       "      <th>distance_electric</th>\n",
       "      <th>fuel</th>\n",
       "      <th>electric</th>\n",
       "      <th>total_distance</th>\n",
       "      <th>speed</th>\n",
       "      <th>energy_recovered</th>\n",
       "      <th>charge</th>\n",
       "      <th>cluster</th>\n",
       "    </tr>\n",
       "  </thead>\n",
       "  <tbody>\n",
       "    <tr>\n",
       "      <th>0</th>\n",
       "      <td>27.7</td>\n",
       "      <td>0.3</td>\n",
       "      <td>12.0</td>\n",
       "      <td>29.4</td>\n",
       "      <td>43.3</td>\n",
       "      <td>NaN</td>\n",
       "      <td>0.942177</td>\n",
       "      <td>2</td>\n",
       "    </tr>\n",
       "    <tr>\n",
       "      <th>1</th>\n",
       "      <td>24.1</td>\n",
       "      <td>0.5</td>\n",
       "      <td>14.9</td>\n",
       "      <td>24.9</td>\n",
       "      <td>14.1</td>\n",
       "      <td>NaN</td>\n",
       "      <td>0.967871</td>\n",
       "      <td>2</td>\n",
       "    </tr>\n",
       "    <tr>\n",
       "      <th>2</th>\n",
       "      <td>1.9</td>\n",
       "      <td>4.7</td>\n",
       "      <td>3.2</td>\n",
       "      <td>21.9</td>\n",
       "      <td>22.4</td>\n",
       "      <td>NaN</td>\n",
       "      <td>0.086758</td>\n",
       "      <td>1</td>\n",
       "    </tr>\n",
       "    <tr>\n",
       "      <th>3</th>\n",
       "      <td>0.1</td>\n",
       "      <td>5.9</td>\n",
       "      <td>5.6</td>\n",
       "      <td>21.8</td>\n",
       "      <td>16.8</td>\n",
       "      <td>2.1</td>\n",
       "      <td>0.004587</td>\n",
       "      <td>1</td>\n",
       "    </tr>\n",
       "    <tr>\n",
       "      <th>4</th>\n",
       "      <td>2.1</td>\n",
       "      <td>4.7</td>\n",
       "      <td>3.8</td>\n",
       "      <td>32.5</td>\n",
       "      <td>19.1</td>\n",
       "      <td>3.1</td>\n",
       "      <td>0.064615</td>\n",
       "      <td>1</td>\n",
       "    </tr>\n",
       "    <tr>\n",
       "      <th>5</th>\n",
       "      <td>0.0</td>\n",
       "      <td>4.6</td>\n",
       "      <td>3.6</td>\n",
       "      <td>32.7</td>\n",
       "      <td>33.3</td>\n",
       "      <td>1.6</td>\n",
       "      <td>0.000000</td>\n",
       "      <td>1</td>\n",
       "    </tr>\n",
       "    <tr>\n",
       "      <th>6</th>\n",
       "      <td>56.4</td>\n",
       "      <td>1.5</td>\n",
       "      <td>12.0</td>\n",
       "      <td>69.3</td>\n",
       "      <td>22.1</td>\n",
       "      <td>4.5</td>\n",
       "      <td>0.813853</td>\n",
       "      <td>2</td>\n",
       "    </tr>\n",
       "    <tr>\n",
       "      <th>7</th>\n",
       "      <td>20.5</td>\n",
       "      <td>2.5</td>\n",
       "      <td>9.0</td>\n",
       "      <td>40.7</td>\n",
       "      <td>15.4</td>\n",
       "      <td>4.0</td>\n",
       "      <td>0.503686</td>\n",
       "      <td>0</td>\n",
       "    </tr>\n",
       "    <tr>\n",
       "      <th>8</th>\n",
       "      <td>53.9</td>\n",
       "      <td>3.1</td>\n",
       "      <td>8.8</td>\n",
       "      <td>121.7</td>\n",
       "      <td>24.9</td>\n",
       "      <td>7.4</td>\n",
       "      <td>0.442892</td>\n",
       "      <td>0</td>\n",
       "    </tr>\n",
       "    <tr>\n",
       "      <th>9</th>\n",
       "      <td>0.5</td>\n",
       "      <td>5.1</td>\n",
       "      <td>5.0</td>\n",
       "      <td>59.0</td>\n",
       "      <td>23.6</td>\n",
       "      <td>3.7</td>\n",
       "      <td>0.008475</td>\n",
       "      <td>1</td>\n",
       "    </tr>\n",
       "    <tr>\n",
       "      <th>10</th>\n",
       "      <td>0.0</td>\n",
       "      <td>5.6</td>\n",
       "      <td>4.7</td>\n",
       "      <td>46.1</td>\n",
       "      <td>25.4</td>\n",
       "      <td>2.7</td>\n",
       "      <td>0.000000</td>\n",
       "      <td>1</td>\n",
       "    </tr>\n",
       "    <tr>\n",
       "      <th>11</th>\n",
       "      <td>0.9</td>\n",
       "      <td>5.1</td>\n",
       "      <td>3.6</td>\n",
       "      <td>61.9</td>\n",
       "      <td>18.3</td>\n",
       "      <td>5.5</td>\n",
       "      <td>0.014540</td>\n",
       "      <td>1</td>\n",
       "    </tr>\n",
       "    <tr>\n",
       "      <th>12</th>\n",
       "      <td>13.1</td>\n",
       "      <td>4.2</td>\n",
       "      <td>9.5</td>\n",
       "      <td>33.3</td>\n",
       "      <td>12.9</td>\n",
       "      <td>2.6</td>\n",
       "      <td>0.393393</td>\n",
       "      <td>0</td>\n",
       "    </tr>\n",
       "    <tr>\n",
       "      <th>13</th>\n",
       "      <td>0.0</td>\n",
       "      <td>5.0</td>\n",
       "      <td>1.3</td>\n",
       "      <td>31.5</td>\n",
       "      <td>39.8</td>\n",
       "      <td>1.2</td>\n",
       "      <td>0.000000</td>\n",
       "      <td>1</td>\n",
       "    </tr>\n",
       "    <tr>\n",
       "      <th>14</th>\n",
       "      <td>16.9</td>\n",
       "      <td>1.8</td>\n",
       "      <td>10.0</td>\n",
       "      <td>28.7</td>\n",
       "      <td>50.8</td>\n",
       "      <td>0.9</td>\n",
       "      <td>0.588850</td>\n",
       "      <td>0</td>\n",
       "    </tr>\n",
       "    <tr>\n",
       "      <th>15</th>\n",
       "      <td>0.0</td>\n",
       "      <td>5.1</td>\n",
       "      <td>4.3</td>\n",
       "      <td>86.5</td>\n",
       "      <td>23.3</td>\n",
       "      <td>5.0</td>\n",
       "      <td>0.000000</td>\n",
       "      <td>1</td>\n",
       "    </tr>\n",
       "    <tr>\n",
       "      <th>16</th>\n",
       "      <td>0.0</td>\n",
       "      <td>4.0</td>\n",
       "      <td>2.4</td>\n",
       "      <td>25.3</td>\n",
       "      <td>62.4</td>\n",
       "      <td>0.8</td>\n",
       "      <td>0.000000</td>\n",
       "      <td>1</td>\n",
       "    </tr>\n",
       "    <tr>\n",
       "      <th>17</th>\n",
       "      <td>26.7</td>\n",
       "      <td>0.8</td>\n",
       "      <td>11.7</td>\n",
       "      <td>29.0</td>\n",
       "      <td>46.8</td>\n",
       "      <td>0.9</td>\n",
       "      <td>0.920690</td>\n",
       "      <td>2</td>\n",
       "    </tr>\n",
       "    <tr>\n",
       "      <th>18</th>\n",
       "      <td>24.5</td>\n",
       "      <td>0.0</td>\n",
       "      <td>14.1</td>\n",
       "      <td>24.5</td>\n",
       "      <td>15.8</td>\n",
       "      <td>1.9</td>\n",
       "      <td>1.000000</td>\n",
       "      <td>2</td>\n",
       "    </tr>\n",
       "    <tr>\n",
       "      <th>19</th>\n",
       "      <td>5.7</td>\n",
       "      <td>5.2</td>\n",
       "      <td>7.4</td>\n",
       "      <td>68.1</td>\n",
       "      <td>17.9</td>\n",
       "      <td>6.2</td>\n",
       "      <td>0.083700</td>\n",
       "      <td>0</td>\n",
       "    </tr>\n",
       "    <tr>\n",
       "      <th>20</th>\n",
       "      <td>33.3</td>\n",
       "      <td>0.5</td>\n",
       "      <td>14.0</td>\n",
       "      <td>34.3</td>\n",
       "      <td>18.9</td>\n",
       "      <td>3.0</td>\n",
       "      <td>0.970845</td>\n",
       "      <td>2</td>\n",
       "    </tr>\n",
       "    <tr>\n",
       "      <th>21</th>\n",
       "      <td>6.6</td>\n",
       "      <td>4.0</td>\n",
       "      <td>7.9</td>\n",
       "      <td>27.0</td>\n",
       "      <td>46.0</td>\n",
       "      <td>0.7</td>\n",
       "      <td>0.244444</td>\n",
       "      <td>0</td>\n",
       "    </tr>\n",
       "    <tr>\n",
       "      <th>22</th>\n",
       "      <td>36.6</td>\n",
       "      <td>0.0</td>\n",
       "      <td>13.8</td>\n",
       "      <td>36.7</td>\n",
       "      <td>32.1</td>\n",
       "      <td>1.5</td>\n",
       "      <td>0.997275</td>\n",
       "      <td>2</td>\n",
       "    </tr>\n",
       "    <tr>\n",
       "      <th>23</th>\n",
       "      <td>97.5</td>\n",
       "      <td>3.0</td>\n",
       "      <td>10.6</td>\n",
       "      <td>207.9</td>\n",
       "      <td>24.6</td>\n",
       "      <td>13.6</td>\n",
       "      <td>0.468975</td>\n",
       "      <td>0</td>\n",
       "    </tr>\n",
       "    <tr>\n",
       "      <th>24</th>\n",
       "      <td>3.0</td>\n",
       "      <td>5.2</td>\n",
       "      <td>4.9</td>\n",
       "      <td>103.0</td>\n",
       "      <td>22.3</td>\n",
       "      <td>6.2</td>\n",
       "      <td>0.029126</td>\n",
       "      <td>1</td>\n",
       "    </tr>\n",
       "    <tr>\n",
       "      <th>25</th>\n",
       "      <td>2.7</td>\n",
       "      <td>5.6</td>\n",
       "      <td>4.4</td>\n",
       "      <td>146.1</td>\n",
       "      <td>20.4</td>\n",
       "      <td>10.4</td>\n",
       "      <td>0.018480</td>\n",
       "      <td>1</td>\n",
       "    </tr>\n",
       "    <tr>\n",
       "      <th>26</th>\n",
       "      <td>0.0</td>\n",
       "      <td>5.1</td>\n",
       "      <td>3.5</td>\n",
       "      <td>46.0</td>\n",
       "      <td>25.1</td>\n",
       "      <td>2.5</td>\n",
       "      <td>0.000000</td>\n",
       "      <td>1</td>\n",
       "    </tr>\n",
       "    <tr>\n",
       "      <th>27</th>\n",
       "      <td>5.7</td>\n",
       "      <td>3.9</td>\n",
       "      <td>3.3</td>\n",
       "      <td>63.6</td>\n",
       "      <td>36.9</td>\n",
       "      <td>2.6</td>\n",
       "      <td>0.089623</td>\n",
       "      <td>1</td>\n",
       "    </tr>\n",
       "    <tr>\n",
       "      <th>28</th>\n",
       "      <td>44.9</td>\n",
       "      <td>3.6</td>\n",
       "      <td>10.6</td>\n",
       "      <td>96.9</td>\n",
       "      <td>14.9</td>\n",
       "      <td>8.6</td>\n",
       "      <td>0.463364</td>\n",
       "      <td>0</td>\n",
       "    </tr>\n",
       "    <tr>\n",
       "      <th>29</th>\n",
       "      <td>78.3</td>\n",
       "      <td>3.3</td>\n",
       "      <td>10.0</td>\n",
       "      <td>183.3</td>\n",
       "      <td>24.1</td>\n",
       "      <td>12.2</td>\n",
       "      <td>0.427169</td>\n",
       "      <td>0</td>\n",
       "    </tr>\n",
       "    <tr>\n",
       "      <th>30</th>\n",
       "      <td>27.1</td>\n",
       "      <td>0.7</td>\n",
       "      <td>12.2</td>\n",
       "      <td>28.7</td>\n",
       "      <td>42.9</td>\n",
       "      <td>0.9</td>\n",
       "      <td>0.944251</td>\n",
       "      <td>2</td>\n",
       "    </tr>\n",
       "    <tr>\n",
       "      <th>31</th>\n",
       "      <td>55.5</td>\n",
       "      <td>4.0</td>\n",
       "      <td>9.4</td>\n",
       "      <td>176.8</td>\n",
       "      <td>27.6</td>\n",
       "      <td>10.1</td>\n",
       "      <td>0.313914</td>\n",
       "      <td>0</td>\n",
       "    </tr>\n",
       "    <tr>\n",
       "      <th>32</th>\n",
       "      <td>18.6</td>\n",
       "      <td>4.0</td>\n",
       "      <td>6.1</td>\n",
       "      <td>73.3</td>\n",
       "      <td>28.9</td>\n",
       "      <td>3.5</td>\n",
       "      <td>0.253752</td>\n",
       "      <td>1</td>\n",
       "    </tr>\n",
       "    <tr>\n",
       "      <th>33</th>\n",
       "      <td>28.7</td>\n",
       "      <td>4.3</td>\n",
       "      <td>12.5</td>\n",
       "      <td>61.3</td>\n",
       "      <td>16.3</td>\n",
       "      <td>6.0</td>\n",
       "      <td>0.468189</td>\n",
       "      <td>2</td>\n",
       "    </tr>\n",
       "    <tr>\n",
       "      <th>34</th>\n",
       "      <td>26.3</td>\n",
       "      <td>4.5</td>\n",
       "      <td>6.7</td>\n",
       "      <td>161.3</td>\n",
       "      <td>29.6</td>\n",
       "      <td>8.5</td>\n",
       "      <td>0.163050</td>\n",
       "      <td>0</td>\n",
       "    </tr>\n",
       "    <tr>\n",
       "      <th>35</th>\n",
       "      <td>34.0</td>\n",
       "      <td>3.7</td>\n",
       "      <td>13.1</td>\n",
       "      <td>55.6</td>\n",
       "      <td>16.9</td>\n",
       "      <td>5.0</td>\n",
       "      <td>0.611511</td>\n",
       "      <td>2</td>\n",
       "    </tr>\n",
       "    <tr>\n",
       "      <th>36</th>\n",
       "      <td>5.7</td>\n",
       "      <td>5.0</td>\n",
       "      <td>4.1</td>\n",
       "      <td>414.0</td>\n",
       "      <td>39.9</td>\n",
       "      <td>15.1</td>\n",
       "      <td>0.013768</td>\n",
       "      <td>1</td>\n",
       "    </tr>\n",
       "    <tr>\n",
       "      <th>37</th>\n",
       "      <td>4.1</td>\n",
       "      <td>4.9</td>\n",
       "      <td>2.9</td>\n",
       "      <td>124.2</td>\n",
       "      <td>35.4</td>\n",
       "      <td>6.6</td>\n",
       "      <td>0.033011</td>\n",
       "      <td>1</td>\n",
       "    </tr>\n",
       "    <tr>\n",
       "      <th>38</th>\n",
       "      <td>1.2</td>\n",
       "      <td>5.3</td>\n",
       "      <td>4.9</td>\n",
       "      <td>280.5</td>\n",
       "      <td>26.8</td>\n",
       "      <td>15.5</td>\n",
       "      <td>0.004278</td>\n",
       "      <td>1</td>\n",
       "    </tr>\n",
       "    <tr>\n",
       "      <th>39</th>\n",
       "      <td>26.2</td>\n",
       "      <td>0.9</td>\n",
       "      <td>17.8</td>\n",
       "      <td>29.2</td>\n",
       "      <td>15.5</td>\n",
       "      <td>NaN</td>\n",
       "      <td>0.897260</td>\n",
       "      <td>2</td>\n",
       "    </tr>\n",
       "    <tr>\n",
       "      <th>40</th>\n",
       "      <td>35.6</td>\n",
       "      <td>3.0</td>\n",
       "      <td>9.1</td>\n",
       "      <td>70.2</td>\n",
       "      <td>13.1</td>\n",
       "      <td>4.2</td>\n",
       "      <td>0.507123</td>\n",
       "      <td>0</td>\n",
       "    </tr>\n",
       "    <tr>\n",
       "      <th>41</th>\n",
       "      <td>35.5</td>\n",
       "      <td>2.4</td>\n",
       "      <td>8.9</td>\n",
       "      <td>56.5</td>\n",
       "      <td>12.6</td>\n",
       "      <td>3.1</td>\n",
       "      <td>0.628319</td>\n",
       "      <td>0</td>\n",
       "    </tr>\n",
       "    <tr>\n",
       "      <th>42</th>\n",
       "      <td>25.9</td>\n",
       "      <td>1.9</td>\n",
       "      <td>12.3</td>\n",
       "      <td>32.1</td>\n",
       "      <td>16.9</td>\n",
       "      <td>NaN</td>\n",
       "      <td>0.806854</td>\n",
       "      <td>2</td>\n",
       "    </tr>\n",
       "  </tbody>\n",
       "</table>\n",
       "</div>"
      ],
      "text/plain": [
       "    distance_electric  fuel  electric  total_distance  speed  \\\n",
       "0                27.7   0.3      12.0            29.4   43.3   \n",
       "1                24.1   0.5      14.9            24.9   14.1   \n",
       "2                 1.9   4.7       3.2            21.9   22.4   \n",
       "3                 0.1   5.9       5.6            21.8   16.8   \n",
       "4                 2.1   4.7       3.8            32.5   19.1   \n",
       "5                 0.0   4.6       3.6            32.7   33.3   \n",
       "6                56.4   1.5      12.0            69.3   22.1   \n",
       "7                20.5   2.5       9.0            40.7   15.4   \n",
       "8                53.9   3.1       8.8           121.7   24.9   \n",
       "9                 0.5   5.1       5.0            59.0   23.6   \n",
       "10                0.0   5.6       4.7            46.1   25.4   \n",
       "11                0.9   5.1       3.6            61.9   18.3   \n",
       "12               13.1   4.2       9.5            33.3   12.9   \n",
       "13                0.0   5.0       1.3            31.5   39.8   \n",
       "14               16.9   1.8      10.0            28.7   50.8   \n",
       "15                0.0   5.1       4.3            86.5   23.3   \n",
       "16                0.0   4.0       2.4            25.3   62.4   \n",
       "17               26.7   0.8      11.7            29.0   46.8   \n",
       "18               24.5   0.0      14.1            24.5   15.8   \n",
       "19                5.7   5.2       7.4            68.1   17.9   \n",
       "20               33.3   0.5      14.0            34.3   18.9   \n",
       "21                6.6   4.0       7.9            27.0   46.0   \n",
       "22               36.6   0.0      13.8            36.7   32.1   \n",
       "23               97.5   3.0      10.6           207.9   24.6   \n",
       "24                3.0   5.2       4.9           103.0   22.3   \n",
       "25                2.7   5.6       4.4           146.1   20.4   \n",
       "26                0.0   5.1       3.5            46.0   25.1   \n",
       "27                5.7   3.9       3.3            63.6   36.9   \n",
       "28               44.9   3.6      10.6            96.9   14.9   \n",
       "29               78.3   3.3      10.0           183.3   24.1   \n",
       "30               27.1   0.7      12.2            28.7   42.9   \n",
       "31               55.5   4.0       9.4           176.8   27.6   \n",
       "32               18.6   4.0       6.1            73.3   28.9   \n",
       "33               28.7   4.3      12.5            61.3   16.3   \n",
       "34               26.3   4.5       6.7           161.3   29.6   \n",
       "35               34.0   3.7      13.1            55.6   16.9   \n",
       "36                5.7   5.0       4.1           414.0   39.9   \n",
       "37                4.1   4.9       2.9           124.2   35.4   \n",
       "38                1.2   5.3       4.9           280.5   26.8   \n",
       "39               26.2   0.9      17.8            29.2   15.5   \n",
       "40               35.6   3.0       9.1            70.2   13.1   \n",
       "41               35.5   2.4       8.9            56.5   12.6   \n",
       "42               25.9   1.9      12.3            32.1   16.9   \n",
       "\n",
       "    energy_recovered    charge  cluster  \n",
       "0                NaN  0.942177        2  \n",
       "1                NaN  0.967871        2  \n",
       "2                NaN  0.086758        1  \n",
       "3                2.1  0.004587        1  \n",
       "4                3.1  0.064615        1  \n",
       "5                1.6  0.000000        1  \n",
       "6                4.5  0.813853        2  \n",
       "7                4.0  0.503686        0  \n",
       "8                7.4  0.442892        0  \n",
       "9                3.7  0.008475        1  \n",
       "10               2.7  0.000000        1  \n",
       "11               5.5  0.014540        1  \n",
       "12               2.6  0.393393        0  \n",
       "13               1.2  0.000000        1  \n",
       "14               0.9  0.588850        0  \n",
       "15               5.0  0.000000        1  \n",
       "16               0.8  0.000000        1  \n",
       "17               0.9  0.920690        2  \n",
       "18               1.9  1.000000        2  \n",
       "19               6.2  0.083700        0  \n",
       "20               3.0  0.970845        2  \n",
       "21               0.7  0.244444        0  \n",
       "22               1.5  0.997275        2  \n",
       "23              13.6  0.468975        0  \n",
       "24               6.2  0.029126        1  \n",
       "25              10.4  0.018480        1  \n",
       "26               2.5  0.000000        1  \n",
       "27               2.6  0.089623        1  \n",
       "28               8.6  0.463364        0  \n",
       "29              12.2  0.427169        0  \n",
       "30               0.9  0.944251        2  \n",
       "31              10.1  0.313914        0  \n",
       "32               3.5  0.253752        1  \n",
       "33               6.0  0.468189        2  \n",
       "34               8.5  0.163050        0  \n",
       "35               5.0  0.611511        2  \n",
       "36              15.1  0.013768        1  \n",
       "37               6.6  0.033011        1  \n",
       "38              15.5  0.004278        1  \n",
       "39               NaN  0.897260        2  \n",
       "40               4.2  0.507123        0  \n",
       "41               3.1  0.628319        0  \n",
       "42               NaN  0.806854        2  "
      ]
     },
     "execution_count": 7,
     "metadata": {},
     "output_type": "execute_result"
    }
   ],
   "source": [
    "df"
   ]
  },
  {
   "cell_type": "code",
   "execution_count": 8,
   "metadata": {},
   "outputs": [
    {
     "data": {
      "application/vnd.jupyter.widget-view+json": {
       "model_id": "6ccdcf0faacf41e19489a7b0b77cd367",
       "version_major": 2,
       "version_minor": 0
      },
      "text/plain": [
       "FigureWidget({\n",
       "    'data': [{'marker': {'color': array([2, 2, 1, 1, 1, 1, 2, 0, 0, 1, 1, 1, 0, 1, 0, 1, 1, 2, 2, 0, 2, 0, 2, 0,\n",
       "                                         1, 1, 1, 1, 0, 0, 2, 0, 1, 2, 0, 2, 1, 1, 1, 2, 0, 0, 2], dtype=int32),\n",
       "                         'line': {'color': 'blue', 'width': 2},\n",
       "                         'size': 8},\n",
       "              'mode': 'markers',\n",
       "              'type': 'scatter',\n",
       "              'uid': 'd0758bd5-8885-46f6-a280-6cdb81d502c1',\n",
       "              'x': array([0.94217687, 0.96787149, 0.08675799, 0.00458716, 0.06461538, 0.        ,\n",
       "                          0.81385281, 0.5036855 , 0.44289236, 0.00847458, 0.        , 0.01453958,\n",
       "                          0.39339339, 0.        , 0.58885017, 0.        , 0.        , 0.92068966,\n",
       "                          1.        , 0.08370044, 0.97084548, 0.24444444, 0.9972752 , 0.46897547,\n",
       "                          0.02912621, 0.01848049, 0.        , 0.08962264, 0.46336429, 0.42716858,\n",
       "                          0.94425087, 0.31391403, 0.25375171, 0.46818923, 0.16305022, 0.61151079,\n",
       "                          0.01376812, 0.03301127, 0.00427807, 0.89726027, 0.50712251, 0.62831858,\n",
       "                          0.80685358]),\n",
       "              'y': array([12. , 14.9,  3.2,  5.6,  3.8,  3.6, 12. ,  9. ,  8.8,  5. ,  4.7,  3.6,\n",
       "                           9.5,  1.3, 10. ,  4.3,  2.4, 11.7, 14.1,  7.4, 14. ,  7.9, 13.8, 10.6,\n",
       "                           4.9,  4.4,  3.5,  3.3, 10.6, 10. , 12.2,  9.4,  6.1, 12.5,  6.7, 13.1,\n",
       "                           4.1,  2.9,  4.9, 17.8,  9.1,  8.9, 12.3])}],\n",
       "    'layout': {'template': '...',\n",
       "               'title': {'text': 'Electric Vehicle'},\n",
       "               'xaxis': {'title': {'text': 'Initial charge'}},\n",
       "               'yaxis': {'title': {'text': 'Electric consumption (kWh/100km)'}}}\n",
       "})"
      ]
     },
     "execution_count": 8,
     "metadata": {},
     "output_type": "execute_result"
    }
   ],
   "source": [
    "import numpy as np\n",
    "widget = go.FigureWidget(figure)\n",
    "\n",
    "def update_point(trace, points, selector):\n",
    "    \n",
    "    for i in points.point_inds:\n",
    "        cluster_id = df.cluster[i]\n",
    "        # Get all indices of the same cluster as integer\n",
    "        cluster_indices = np.where(df.cluster == cluster_id)[0]\n",
    "\n",
    "        with widget.batch_update():\n",
    "            opacity = np.array([0.1] * len(df))\n",
    "            opacity[cluster_indices] = 1\n",
    "            widget.data[0].marker.opacity = opacity\n",
    "            \n",
    "\n",
    "widget.data[0].on_hover(update_point)\n",
    "\n",
    "widget"
   ]
  },
  {
   "cell_type": "markdown",
   "metadata": {},
   "source": [
    "# Common use case: dashboard\n",
    "\n",
    "A common use case of callbacks in plotly is having a click in one plot update a property of another plot. "
   ]
  },
  {
   "cell_type": "code",
   "execution_count": 9,
   "metadata": {},
   "outputs": [],
   "source": [
    "DATA = \"~/data/hotel_bookings/hotel_bookings.csv\"\n",
    "df = pd.read_csv(DATA)\n"
   ]
  },
  {
   "cell_type": "code",
   "execution_count": 11,
   "metadata": {},
   "outputs": [
    {
     "data": {
      "application/vnd.jupyter.widget-view+json": {
       "model_id": "124e5d1692564f94b5dea6e73393b975",
       "version_major": 2,
       "version_minor": 0
      },
      "text/plain": [
       "FigureWidget({\n",
       "    'data': [{'histnorm': 'percent',\n",
       "              'type': 'histogram',\n",
       "              'uid': '7d31e9e8-cb3e-460c-a197-a726ed532dc6',\n",
       "              'x': array(['Transient', 'Transient', 'Transient', ..., 'Transient', 'Transient',\n",
       "                          'Transient'], dtype=object),\n",
       "              'xaxis': 'x',\n",
       "              'yaxis': 'y'},\n",
       "             {'type': 'box',\n",
       "              'uid': '7b061f98-3d12-4135-9ccb-509dc6791be3',\n",
       "              'x': array([0, 0, 0, ..., 0, 0, 0]),\n",
       "              'xaxis': 'x2',\n",
       "              'y': array([342, 737,   7, ...,  34, 109, 205]),\n",
       "              'yaxis': 'y2'}],\n",
       "    'layout': {'showlegend': False,\n",
       "               'template': '...',\n",
       "               'xaxis': {'anchor': 'y', 'domain': [0.0, 0.45], 'title': {'text': 'Type of customer'}},\n",
       "               'xaxis2': {'anchor': 'y2', 'domain': [0.55, 1.0], 'title': {'text': 'Has cancelled'}},\n",
       "               'yaxis': {'anchor': 'x', 'domain': [0.0, 1.0], 'title': {'text': 'Percentage'}},\n",
       "               'yaxis2': {'anchor': 'x2', 'domain': [0.0, 1.0], 'title': {'text': 'Lead time'}}}\n",
       "})"
      ]
     },
     "execution_count": 11,
     "metadata": {},
     "output_type": "execute_result"
    }
   ],
   "source": [
    "# Produce two subplots in the same row\n",
    "\n",
    "from plotly.subplots import make_subplots\n",
    "\n",
    "CATEGORIES = ['Transient', 'Contract', 'Transient-Party', 'Group']\n",
    "\n",
    "df['customer_category'] = pd.Categorical(df['customer_type'], categories=CATEGORIES, ordered=True)\n",
    "\n",
    "fig = go.FigureWidget(\n",
    "    make_subplots(rows=1, cols=2, column_widths=[0.5, 0.5]\n",
    "    )\n",
    ")\n",
    "\n",
    "fig.add_histogram(x=df['customer_category'], histnorm=\"percent\", row=1, col=1)\n",
    "fig.add_box(x=df['is_canceled'], y=df['lead_time'], row=1, col=2)\n",
    "\n",
    "fig['layout']['xaxis']['title']='Type of customer'\n",
    "fig['layout']['xaxis2']['title']='Has cancelled'\n",
    "fig['layout']['yaxis1']['title']='Percentage'\n",
    "fig['layout']['yaxis2']['title']='Lead time'\n",
    "\n",
    "fig.update_layout(\n",
    "    showlegend=False,\n",
    ")\n"
   ]
  },
  {
   "cell_type": "code",
   "execution_count": 12,
   "metadata": {},
   "outputs": [],
   "source": [
    "def update_right_plot(trace, points, selector):\n",
    "    if not points.point_inds:\n",
    "        return\n",
    "\n",
    "    with fig.batch_update():\n",
    "        selected_index = points.point_inds[0]\n",
    "        selected_customer_type = df.customer_type[selected_index]\n",
    "        selected_data = df[df.customer_type == selected_customer_type]\n",
    "\n",
    "        # Get the index of the selected customer type\n",
    "        selected_index = CATEGORIES.index(selected_customer_type)\n",
    "        opacity = [\"lightgrey\"] * 4\n",
    "        opacity[selected_index] = \"blue\"\n",
    "\n",
    "        fig.data[0].marker.color = opacity\n",
    "        fig.data[1].x = selected_data['is_canceled']\n",
    "        fig.data[1].y = selected_data['lead_time']\n",
    "\n",
    "fig.data[0].on_click(update_right_plot)\n"
   ]
  }
 ],
 "metadata": {
  "kernelspec": {
   "display_name": ".venv",
   "language": "python",
   "name": "python3"
  },
  "language_info": {
   "codemirror_mode": {
    "name": "ipython",
    "version": 3
   },
   "file_extension": ".py",
   "mimetype": "text/x-python",
   "name": "python",
   "nbconvert_exporter": "python",
   "pygments_lexer": "ipython3",
   "version": "3.9.6"
  }
 },
 "nbformat": 4,
 "nbformat_minor": 2
}
