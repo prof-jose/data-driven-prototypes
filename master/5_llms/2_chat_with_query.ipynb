{
 "cells": [
  {
   "cell_type": "markdown",
   "metadata": {},
   "source": [
    "# LLM examples\n",
    "\n",
    "## Learning goals: \n",
    "\n",
    "- Understand the concept and mechanisms of \"tools\" in the context of LLMs by examples. \n",
    "\n",
    "In this notebook, we will manually create a mechanism to call an external \"tool\" to complement the LLM's output. This is an exercise to understand the prompting strategy. \n",
    "\n",
    "(In practice, most LLMs now have systematic ways to specify new tools and each provides a specific syntax to specify tools. Also note that working with tools, and some of the related prompting strategies, are very recent and there is still active research in this). \n",
    "\n",
    "## Dependencies\n",
    "\n",
    "We will use the packages `cohere` (see notebook 1) and `openfoodfacts`. Make sure these are installed. \n",
    "\n",
    "## Environment preparation"
   ]
  },
  {
   "cell_type": "code",
   "execution_count": 1,
   "metadata": {},
   "outputs": [],
   "source": [
    "import cohere\n",
    "import openfoodfacts"
   ]
  },
  {
   "cell_type": "code",
   "execution_count": 2,
   "metadata": {},
   "outputs": [],
   "source": [
    "COHERE_API_KEY = # YOUR API KEY\n",
    "cohere_client = cohere.Client(COHERE_API_KEY)\n",
    "api = openfoodfacts.API(user_agent=\"MyAwesomeApp/1.0\")\n"
   ]
  },
  {
   "cell_type": "markdown",
   "metadata": {},
   "source": [
    "## Working with tools\n",
    "\n",
    "Imagine we ask Cohere about the calories of some food item. While it will still provide an answer, this answer will be based on the word statistics learned by the model. "
   ]
  },
  {
   "cell_type": "code",
   "execution_count": 3,
   "metadata": {},
   "outputs": [
    {
     "name": "stdout",
     "output_type": "stream",
     "text": [
      "Mikado, the chocolate-covered biscuit sticks, typically contain around 490 calories per 100 grams. However, the exact calorie count can vary slightly depending on the specific variety and serving size. It's always a good idea to check the nutrition label on the package for the most accurate information.\n"
     ]
    }
   ],
   "source": [
    "prompt = input(\"Enter some text\")\n",
    "\n",
    "response = cohere_client.chat(\n",
    "    message=prompt,\n",
    ")\n",
    "\n",
    "language = response.text\n",
    "print(language)"
   ]
  },
  {
   "cell_type": "markdown",
   "metadata": {},
   "source": [
    "Let's say, in order to have a more accurate answer, we want to connect this LLM with the OpenFoodFacts database. \n",
    "\n",
    "First, we create a function that queries the database given the name of the product and returns the calories: "
   ]
  },
  {
   "cell_type": "code",
   "execution_count": 4,
   "metadata": {},
   "outputs": [],
   "source": [
    "def get_calories(name):\n",
    "    \"\"\"\n",
    "    Get the calories of a product by its name.\n",
    "    \"\"\"\n",
    "    result = api.product.text_search(name)\n",
    "\n",
    "    # This just takes the first item of the search. \n",
    "    # In a real application, you would need to do more error checking.\n",
    "    first_match = result['products'][0]\n",
    "    id = first_match['_id']\n",
    "    result = api.product.get(id, fields=[\"code\", \"product_name\", \"energy-kcal_100g\"])\n",
    "    return result['energy-kcal_100g']\n"
   ]
  },
  {
   "cell_type": "markdown",
   "metadata": {},
   "source": [
    "Now we can use the following strategy for the LLM to call this function if needed. \n",
    "\n",
    "- We do a first call to the LLM to check if the prompt asks about calories. If not, respond normally. \n",
    "- If the prompt asks about calories, respond with some internal \"code\" so that we can intercept it and do further processing. \n",
    "- If we detect the code, then we call the above function. \n",
    "- Finally, we create a new prompt  asking the LLM to provide a final response based on the original request and the information returned by the function. "
   ]
  },
  {
   "cell_type": "code",
   "execution_count": 5,
   "metadata": {},
   "outputs": [
    {
     "name": "stdout",
     "output_type": "stream",
     "text": [
      "<INTERMEDIATE RESULT> Calories= 484\n",
      "Final response:  Each serving of Mikado, which is typically a pack of 13 mini biscuit sticks, contains approximately 484 calories. This information is provided by the OpenFoodFacts database. It's important to note that the calorie content may vary slightly depending on the specific Mikado product and serving size.\n"
     ]
    }
   ],
   "source": [
    "message = input(\"Enter some text\")\n",
    "prompt = \"\"\"\n",
    "This is a normal chatbot. Except if it the user asks for the calories of a food item,\n",
    "return the message CALORIES_REQUEST followed by the product name,\n",
    "For example, if the user asks for the calories of an apple, return CALORIES_REQUEST apple.\n",
    "Now comes the text that the user entered: \n",
    "\"\"\"\n",
    "\n",
    "response = cohere_client.chat(\n",
    "    message=prompt+ message,\n",
    ")\n",
    "\n",
    "output = response.text\n",
    "\n",
    "if output.startswith(\"CALORIES_REQUEST\"):\n",
    "    product_name = output.split(\" \")[1]\n",
    "    calories = get_calories(product_name)\n",
    "    print(\"<INTERMEDIATE RESULT> Calories=\", calories)\n",
    "    final_response = cohere_client.chat(\n",
    "        message=f\"\"\"\n",
    "            Now complete the request of the user, knowing \n",
    "            the calories of the product on the OpenFoodFacts database is {calories}.\n",
    "            Mention this source in the response.\n",
    "        \"\"\",\n",
    "        chat_history=[\n",
    "            {\"role\": \"user\", \"message\": message}\n",
    "        ])\n",
    "    print(\"Final response: \", final_response.text)\n",
    "else:\n",
    "    print(\"Final response: \", output)\n",
    "\n"
   ]
  },
  {
   "cell_type": "markdown",
   "metadata": {},
   "source": [
    "## Web search\n",
    "\n",
    "The mechanism to call tools is embedded into most LLM packages. (Although The use of tools is recent and there is still research going on about specific prompting strategies). \n",
    "\n",
    "One commonly used tool is the web search. You can ask the LLM to perform a web search to get additional information before compiling the final answer. \n",
    "\n",
    "In cohere, that is quite straightforward using adding `web-search` to the `connectors` list, as exemplified now. \n"
   ]
  },
  {
   "cell_type": "code",
   "execution_count": 18,
   "metadata": {},
   "outputs": [
    {
     "data": {
      "text/plain": [
       "'Hansi Flick has been announced as the new head coach of FC Barcelona. He replaces club legend Xavi Hernandez, who was dismissed before the weekend. Flick has signed a contract with the club until June 30, 2026.'"
      ]
     },
     "execution_count": 18,
     "metadata": {},
     "output_type": "execute_result"
    }
   ],
   "source": [
    "message = \"Is Flick the new coach of FC Barcelona for the next season?\"\n",
    "response = cohere_client.chat(\n",
    "    message=message,\n",
    "    connectors = [{\"id\": \"web-search\"}]\n",
    ")\n",
    "response.text"
   ]
  },
  {
   "cell_type": "markdown",
   "metadata": {},
   "source": [
    "(Try without the web search and you might get outdated info)\n",
    "\n",
    "The response object can be inspected to get information of the sources used to compile the response: "
   ]
  },
  {
   "cell_type": "code",
   "execution_count": 16,
   "metadata": {},
   "outputs": [
    {
     "name": "stdout",
     "output_type": "stream",
     "text": [
      "{\n",
      "  \"text\": \"According to sources, Xavi Hernandez will step down as the coach of FC Barcelona on June 30, 2024. Hansi Flick is one of the potential candidates to replace Xavi, but no official announcement has been made yet. Therefore, it cannot be said with certainty that Flick will be the new coach of FC Barcelona for the next season.\",\n",
      "  \"generation_id\": \"1ad8d9e3-1f18-4517-a32a-156a5b88ce98\",\n",
      "  \"citations\": [\n",
      "    {\n",
      "      \"start\": 22,\n",
      "      \"end\": 36,\n",
      "      \"text\": \"Xavi Hernandez\",\n",
      "      \"document_ids\": [\n",
      "        \"web-search_1\",\n",
      "        \"web-search_2\",\n",
      "        \"web-search_4\",\n",
      "        \"web-search_5\"\n",
      "      ]\n",
      "    },\n",
      "    {\n",
      "      \"start\": 42,\n",
      "      \"end\": 51,\n",
      "      \"text\": \"step down\",\n",
      "      \"document_ids\": [\n",
      "        \"web-search_2\",\n",
      "        \"web-search_5\"\n",
      "      ]\n",
      "    },\n",
      "    {\n",
      "      \"start\": 84,\n",
      "      \"end\": 98,\n",
      "      \"text\": \"June 30, 2024.\",\n",
      "      \"document_ids\": [\n",
      "        \"web-search_5\"\n",
      "      ]\n",
      "    },\n",
      "    {\n",
      "      \"start\": 99,\n",
      "      \"end\": 110,\n",
      "      \"text\": \"Hansi Flick\",\n",
      "      \"document_ids\": [\n",
      "        \"web-search_2\",\n",
      "        \"web-search_5\"\n",
      "      ]\n",
      "    },\n",
      "    {\n",
      "      \"start\": 125,\n",
      "      \"end\": 145,\n",
      "      \"text\": \"potential candidates\",\n",
      "      \"document_ids\": [\n",
      "        \"web-search_2\",\n",
      "        \"web-search_5\"\n",
      "      ]\n",
      "    }\n",
      "  ],\n",
      "  \"documents\": [\n",
      "    {\n",
      "      \"id\": \"web-search_1\",\n",
      "      \"snippet\": \"Notifications Center\\n\\nNo Notifications to show at the moment. Check back later!\\n\\nChoose your language\\n\\nOfficial FC Barcelona Website\\n\\nMemorial FC Barcelona\\n\\nBar\\u00e7a Innovation Hub\\n\\nBar\\u00e7a Official Store Camp Nou\\n\\nDownload the official FC Barcelona App\\n\\nThe History of FC Barcelona\\n\\nCentre for Documentation\\n\\nXavi Hern\\u00e1ndez (2021-present)\\n\\nThe Bar\\u00e7a legend took over as first team manager in the autumn of 2021\\n\\nRonald Koeman (2020-2021)\\n\\nThe Dutchman joined Bar\\u00e7a as first-team coach in the summer of 2020, after having played for the club for six seasons (1989-1995)\\n\\nQuique Seti\\u00e9n (2020)\\n\\nThe third Cantabrian coach in the history of the club arrived at Bar\\u00e7a having made his name thanks to the style of play developed by all of his previous teams\\n\\nErnesto Valverde (2017-2020)\\n\\nThe man known as 'Txingurri' (little ant in Basque) returned to Bar\\u00e7a 27 years later after his spell as a player between 1988 and 1990 and left with 4 trophies under his belt\\n\\nLuis Enrique Mart\\u00ednez (2014-2017)\\n\\nBorn in Gij\\u00f3n on May 8, 1970, Luis Enrique arrived at the Club as coach in May 2014 after leaving Celta Vigo. Three years later he left the Club wtih a great record of having won nine trophies of a possible 13\\n\\nGerardo 'Tata' Martino (2013-14)\\n\\nGerardo 'Tata' Martino took control of the first team at FC Barcelona during preseason in 2013/14 as result of the unexpected departure of Tito Vilanova\\n\\nFrancesc 'Tito' Vilanova (2012-2013)\\n\\nFC Barcelona had a record season in La Liga with Tito on the bench. Under his guidance, the team established a new goalscoring record and broke the record for the most points won in the first half of the season in the history of Spanish football\\n\\nJosep Guardiola (2008 - 2012)\\n\\nAfter a successful spell at the Club as a player and as coach of Bar\\u00e7a B, Guardiola won 14 of a possible 19 trophies in four seasons in charge of the first team\\n\\nFrank Rijkaard (2003-2008)\\n\\nFranklin Edmundo Rijkaard, born on 30 September 1962 in Amsterdam (Holland), became FC Barcelona coach in the summer of 2003, replacing Radomir Antic\\n\\nRadomir Antic (2003)\\n\\nRadomir Antic was born in Zitiste (Serbia) on 22 November 1948. He joined FC Barcelona at the end of January 2003 to take over from Louis van Gaal\\n\\nJes\\u00fas Antonio de la Cruz (2003)\\n\\nBorn in Le\\u00f3n on 7 May 1947 and a Bar\\u00e7a player between 1972 and 1980, Jes\\u00fas Antonio de la Cruz was the blaugrana boss for just one match in February 2003 ahead of the arrival of new coach Radomir Antic\\n\\nCarles Rexach (1988, 1991, 1996 & 2001-02)\\n\\n'The Boy from Pedralbes' hung up his boots in 1981, but immediately returned to the world of football, taking charge of the Bar\\u00e7a U19 team in the youth football set up\\n\\nLloren\\u00e7 Serra Ferrer (2000-01)\\n\\nLloren\\u00e7 Serra Ferrer, was born in Sa Pobla (Mallorca) on 5 March 1953. He became coach of FC Barcelona in the summer of 2000 after Dutchman Louis van Gaal left the Club\\n\\nLouis van Gaal (1997-00 / 2002-03)\\n\\nLouis van Gaal was born on 8 August 1951 in Amsterdam (Holland), very close to the old De Meer stadium, the team where he would learn his apprenticeship in football\\n\\nBobby Robson (1996-97)\\n\\nThis English gentleman, born in Sacriston in the north east of England (18 February 1933-31 July 2009) came to Barcelona with the difficult task of substituting Johan Cruyff. He won the Copa del Rey and the European Cup Winners' Cup\\n\\nJohan Cruyff (1988-96)\\n\\nAfter having appeared for the club as a player, \\u201cEl Flaco (The Skinny One)\\u201d returned to FC Barcelona for the 1988-89 season, this time to take up his new role as coach of the first team\\n\\nLuis Aragon\\u00e9s (1987-88)\\n\\nThis globetrotter of Spanish football, better known as \\u201cel Sabio de Hortaleza\\u201d (the wise man from Hortaleza) coached different teams all over the country\\n\\nTerry Venables (1984-87)\\n\\nTerry Venables came to FC Barcelona with the task of replacing C\\u00e9sar Menotti, a coach who, despite not winning any important trophies with the team, had created an attractive and colourful style of football\\n\\nC\\u00e9sar Luis Menotti (1983-84)\\n\\nThe arrival of C\\u00e9sar Luis Menotti (Rosario, Argentina, 5 November 1938-Buenos Aires, 5 May 2024) in March 1983 supposed a shake up of the first team squad who had shown signs of their quality but had not made the most of it under previous coach, the German Udo Lattek\\n\\nJos\\u00e9 Luis Romero (1983)\\n\\nThe sacking of Udo Lattek as first team coach led to Jos\\u00e9 Luis Romero (Madrid, 5 November 1945) taking over for just one match\\n\\nUdo Lattek (1981-83)\\n\\nGerman coach Udo Lattek (16 January 1935-31 January 2015) arrived at the Club in 1981 with exceptional credentials after successes with Bayern Munich and Borussia M\\u00f6nchengladbach\\n\\nJoaquim Rif\\u00e9 (1979-1980)\\n\\nOn 18 April 1979, after being knocked out of the Copa del Rey by Valencia the Board decided to bring in former player Rif\\u00e9 to replace coach Lucien M\\u00fcller\\n\\nLucien M\\u00fcller (1978-79)\\n\\nAfter an important period as a player at the Club (1965-68), M\\u00fcller (Bischwiller, France, 3 September 1934) left at the age of 33, but was to return to Bar\\u00e7a ten years later\\n\\nLaureano Ruiz (1976)\\n\\nWhen Hennes Weissweiler left the Club in April 1976, the FC Barcelona Board immediately thought of Laureano Ruiz (Escobedo de Vullafufre, Cantabria, 21 October 1937) as his replacement\\n\\nHennes Weisweiler (1975-76)\\n\\nWeisweiler arrived at FC Barcelona in 1975 after winning the UEFA Cup with Borussia M\\u00f6nchengladbach\\n\\nMarinus Michels (1971-75,1976-78)\\n\\nMarinus Michels arrived at Bar\\u00e7a after winning everything with Ajax. \\u2018Mister Marble', as he was nicknamed, imposed a strict discipline within the FC Barcelona squad\\n\\nVic Buckingham (1969-71)\\n\\nVic Buckingham arrived at FC Barcelona in January 1970 with the team in ninth place in the league\\n\\nJosep Seguer (1969-70)\\n\\nSeguer came in to replace Salvador Artigas as coach after the latter's resignation in October 1969\\n\\nSalvador Artigas (1967-69)\\n\\nSalvador Artigas took over from Roque Olsen in the 1967-1968 season\\n\\nRoque Olsen (1965-67)\\n\\nOlsen was a Real Madrid player, but he was forced to hang up his boots at the age of just 31 due to a serious knee injury\\n\\nVicen\\u00e7 Sasot (1964-65)\\n\\nOn C\\u00e9sar Rodr\\u00edguez's resignation Sasot, who had been involved with the youth teams at Bar\\u00e7a for 14 years, took over the running of the first team for the remainder of the 1964-65 season\\n\\nC\\u00e9sar Rodr\\u00edguez (1963-64)\\n\\nThis legendary striker for Bar\\u00e7a started as coach whilst still playing for Elche. After a successful period with the club from Alicante, he decided to make his way to Zaragoza\\n\\nJosep Gonzalvo (1963)\\n\\nTogether with his brother Mari\\u00e0 Gonzalvo and Joan Sans, he formed part of the best set of midfield players the team has ever had.\\n\\nLadislao Kubala (1961-63 & 1980)\\n\\nAs a player, he became one of the legends in the history of FC Barcelona. However, he was not as fortunate in his career as a coach and his stay with Bar\\u00e7a was considerably shorter\\n\\nLlu\\u00eds Mir\\u00f3 (1961-62)\\n\\nLlu\\u00eds Mir\\u00f3 was the first coach of the Enric Llaudet presidency, coming in to replace Kubala after Bar\\u00e7a had lost 6-2 to Valencia on 19 November 1961\\n\\nEnrique Orizaola (1961)\\n\\nEnrique Orizaola had a short-lived stint as coach, staying at the Club for only five months. He arrived on 12 January 1961 as a replacement for Brocic\\n\\nLjubisa Brocic (1960-61)\\n\\nBrocic never coached Bar\\u00e7a for an entire season. He arrived in1960 but poor results meant he did not see out the season\\n\\nEnric Rabassa (1960)\\n\\nEnric Rabassa was Helenio Herrera's assistant when the latter was sacked\\n\\nHelenio Herrera (1958-60, 1980 & 1980-81)\\n\\n\\u2018El Mago\\u2019 (\\u2018The Magician\\u2019) as he was known, left an indelible mark at Bar\\u00e7a\\n\\nDom\\u00e8nec Balmanya (1956-58)\\n\\nDom\\u00e8nec Balmanya had been a notable player for the team in the first half of the 1940s, when the Club won the Cup in 1942\\n\\nSandro Puppo (1954-55)\\n\\nBar\\u00e7a thought he would be the ideal replacement for Daucik. Before coming to Barcelona he had managed the Turkish national side, which had dispensed with Spain in the World Cup in Switzerland\\n\\nFerdinand Daucik (1950-1954)\\n\\nHe came to Bar\\u00e7a together with his brother-in-law, Kubala. He coached the team from 1950 to 1954\\n\\nRamon Llorens (1950)\\n\\nThis likeable character dedicated his whole life to FC Barcelona and discovered talents such as Biosca and Manch\\u00f3n\\n\\nEnrique Fern\\u00e1ndez (1947-50)\\n\\nEnrique Fern\\u00e1ndez returned to the Club for the 47-48 season after a serious knee injury ended his career as a player\\n\\nJosep Samitier (1944-47)\\n\\nJosep Samitier's contribution to Bar\\u00e7a was not limited to his outstanding contribution as a player. In 1944, he started an important period as coach of the Club\\n\\nJoan Josep Nogu\\u00e9s (1942-44)\\n\\nJoan Josep Nogu\\u00e9s was still a player, albeit coming towards the end of his career, when he was asked to take over as coach\\n\\nRam\\u00f3n Guzm\\u00e1n (1941-42)\\n\\nPoor results led to his dismissal. despite his professionalism, having only been in the job half a season\\n\\nJosep Planas (1939-41)\\n\\nAfter retiring, following a career as an outstanding player for Bar\\u00e7a, Josep Planas decided to move into coaching\\n\\nPatrick O'Connell (1935-37)\\n\\nThis charismatic Irish manager arrived at FC Barcelona in the 1934-35 season, after taking Betis to first place in the league championship of the previous season\\n\\nFranz Platko (1934-35 and 1955-56)\\n\\nThis ex-Bar\\u00e7a goalkeeper became manager of the first team when he took over from Jack Domby\\n\\nJames Bellamy (1929-31)\\n\\nJames Bellamy, together with Rom\\u00e0 Forns, had the honour to have formed part of the coaching team that led FC Barcelona to the first league title in their history\\n\\nRom\\u00e0 Forns (1927-29)\\n\\nRom\\u00e0 Forns coached the team after a brilliant career as a player\\n\\nJack Domby (1926-27 and 1933-34)\\n\\nHe coached FC Barcelona in two different stages (1926-1927 and 1933-1934)\\n\\nRalph Kirby (1925-26)\\n\\nRalph Kirby was an internationally prestigious coach who unfortunately was unable to bring the team together\\n\\nWilliam Alfred Spouncer (1923-24)\\n\\nIn October 1923 the Club signed Spouncer, a 46 year old Englishman who had spent 13 years as a player at Nottingham Forest\\n\\nJesza Poszony (1923 and 1924)\\n\\nIn December 1922 he arrived in Barcelona as assistant coach to Greenwell, a post he occupied until August 1923 when he became first team coach for just two months\\n\\nJack Greenwell (1913-23,1931-33)\\n\\nThis English coach had two spells in charge of the Bar\\u00e7a first team, from 1913 to 1923 and from 1931 to 1933\\n\\nJack Alderson (1913)\\n\\nA 21 year old Alderson, goalkeeper for Auckland Wanderers, impressed president Gamper to such an extent that he signed him as player-coach\\n\\nIn September 1912 FC Barcelona contracted the services of a specific coach for the first time when they brought in this Englishman\\n\\nIt appears he was the first foreigner to be paid a wage by the Club, something that is explained by his role as player-coach\\n\\nUEFA Champions League 5 Trophies\\n\\nFIFA Club World Cup 3 Trophies\\n\\nCopa Del Rey 31 Trophies\\n\\nFollow FC Barcelona on social media\\n\\nRelated to this article\",\n",
      "      \"timestamp\": \"2024-05-26T20:06:39\",\n",
      "      \"title\": \"Coaches from the Bar\\u00e7a | FC Barcelona Official Channel\",\n",
      "      \"url\": \"https://www.fcbarcelona.com/en/club/history/coaches\"\n",
      "    },\n",
      "    {\n",
      "      \"id\": \"web-search_2\",\n",
      "      \"snippet\": \"NEWSSCORESTEAMSTRANSFER RUMORSPREMIER LEAGUECHAMPIONS LEAGUELA LIGASERIE AMLSBR Sports on Max\\n\\nRanking the Early Candidates for FC Barcelona's Next Head CoachNick AkermanFebruary 21, 2024 Comments\\n\\nRanking the Early Candidates for FC Barcelona's Next Head Coach\\n\\nJose Manuel Alvarez/Quality Sport Images/Getty Images\\n\\nXavi Hernandez's time as Barcelona manager will end at the conclusion of the 2023-24 season.\\n\\nDespite the Blaugrana legend's best efforts, it hasn't really worked out long-term in a role that comes with huge pressure and constant scrutiny.\\n\\nBarca sit eight points off the La Liga summit and head back home with a 1-1 draw in the Champions League Round of 16 after Wednesday's tie with Napoli.\\n\\nSomeone new will take up the hot seat soon, but who is best suited out of those currently linked? Let's take a look.\\n\\nCristian Trujillo/Quality Sport Images/Getty Images\\n\\nWe know Barcelona like to keep it in the family.\\n\\nEven before Xavi's decision to step down was public, club legend Rafael Marquez was being touted as the most likely candidate to replace him.\\n\\nIt's an easy link that makes sense\\u2013the Mexican has been coach of Barcelona B since 2022\\u2013but it's difficult to see what potential he could squeeze out of the team that Xavi couldn't.\\n\\nFirstly, Barcelona should be targeting a more experienced coach once Xavi leaves. Marquez spent just a few months with Alcal\\u00e1 under-15s side before a lengthy break eventually led to him getting the nod with Barca's reserves.\\n\\nThe 45-year-old has never taken charge of a top-level professional match. It doesn't really matter that he was a tough leader on the pitch, managing a club with Barcelona's expectations would test even the most established coaches.\\n\\nMarquez is probably the cheapest appointment for Joan Laporta, who continues to oversee dire finances, but the president is asking too much to repeat the magic of Pep Guardiola's evolution as a coach.\\n\\nDoes Barca really need a less experienced coach than it already had? One who plays similar football to the person leaving? No, they don't.\\n\\nJ\\u00fcrgen Fromme - firo sportphoto/Getty Images\\n\\nIt's staggering to think Hansi Flick became the first Germany national coach in history to be sacked.\\n\\nDie Mannschaft's 4-1 humbling at the hands of Japan in September was the final straw of a dismal tenure that included elimination from the 2022 World Cup at the group stage. Just 12 wins in 25 matches is at odds with what he achieved at Bayern Munich, though.\\n\\nFlick mopped up seven trophies in two years with Bayern, including a Champions League final win over Paris Saint-Germain. He's calm under pressure, smart and a clear communicator of instructions. He doesn't currently speak Spanish, though. German paper Bild, via AS, suggests he is in the process of learning in case the opportunity arises.\\n\\nBeing able to communicate properly is obviously important. Flick does have Barca attributes in his coaching philosophy\\u2014he likes to dictate play with centre-backs controlling the ball, for example\\u2014but remove the precision of his communication, and frustration may quickly set in.\\n\\nThere's also the sense the 58-year-old needs to succeed in another job without the, ahem, almost-guaranteed success of Bayern before stepping back into such a huge role.\\n\\nBurak Akbulut/Anadolu via Getty Images\\n\\nBarcelona DNA? Check. Tactically astute? Check. Promoted with a smaller club and then impressing in La Liga? Check. Garcia Pimienta isn't as sexy a name as someone like Rafa Marquez if Barca insist on sticking with managers forged in their identity, but he might just be the most interesting appointment of that type.\\n\\nThe 49-year-old has an incredible amount of coaching experience at Barca, having worked in various youth ranks from 2006 until being let go in 2021. This time included a UEFA Youth League win and getting Barcelona B to the play-offs twice. He now, vitally, has senior managerial experience to point to as well.\\n\\nLas Palmas sit 10th in La Liga with 10 wins, five draws and 10 losses, including a goal difference of zero. Entirely mid-table is a huge achievement at this point; they are completely safe and looking up rather than down.\\n\\nIt recently took Real Madrid until the 84th minute to score their winner in a 2-1 victory against Las Palmas, with Barcelona needing a 93rd-minute penalty to do the same. This season has included wins over Atletico Madrid, Villarreal and Valencia.\\n\\nIt won't be long until someone bigger gives Pimienta a chance, whether Barca go for him or not.\\n\\nStuart MacFarlane/Arsenal FC via Getty Images\\n\\nTo be clear, I don't think Mikel Arteta is likely to join Barcelona in the summer. I do, however, think he'd be an excellent pick if he ever became available. He is someone who could freshen up the club without totally dismantling its identity.\\n\\nArteta, 41, has found an excellent style of play at Arsenal that combines control and directness to an often devastating effect. He trusts his players into forward-thinking possession; holding the ball is important, but so is moving up the pitch at speed. He's a strict tactician who improves most players he works with. Years spent as Guardiola's assistant at Manchester City certainly weren't wasted.\\n\\nFew would have expected the former Everton midfielder to push the Gunners to title contention last season. Even fewer would have expected him to replicate it this year.\\n\\nIt's impossible not to be impressed by a manager who maintains authority while playing entertaining, goalscoring football. Arsenal would be remiss to let him go, though.\\n\\nMatt McNulty/Getty Images\\n\\nRoberto De Zerbi is one of the most exciting young coaches in the world. He's a man who will be linked with Europe's elite clubs whenever there's a managerial vacancy to fill.\\n\\nHis Brighton & Hove Albion side have built on the excellent work of Graham Potter and become one of England's most entertaining sides by playing fast-paced, aggressive attacking football against opponents that often can't keep up.\\n\\nThe next Barca coach will need time on what is essentially a project of rebuilding without major resources. De Zerbi is used to working with a modest budget by Premier League standards and is even more used to seeing his star players plucked for sums too good to turn down. He always finds a solution.\\n\\nVitally, the 44-year-old also knows how to speak Spanish and he's used to giving young players important roles in his team. The likes of Jo\\u00e3o Pedro, Julio Enciso, Simon Adingra, Billy Gilmour and Jack Hinshelwood have strode forwards with confidence under his tutelage. Even Barca loanee Ansu Fati looked like he was regaining his swagger before injury slowed his momentum.\\n\\nBarca often make managerial signings that Europe's other biggest clubs wouldn't look at, so for once, it would be beneficial to try to act decisively ahead of the pack.\\n\\nHiring someone of De Zerbi's profile would be the start of a very exciting era.\",\n",
      "      \"timestamp\": \"2024-05-23T09:12:44\",\n",
      "      \"title\": \"Ranking the Early Candidates for FC Barcelona's Next Head Coach | News, Scores, Highlights, Stats, and Rumors | Bleacher Report\",\n",
      "      \"url\": \"https://bleacherreport.com/articles/10110189-ranking-the-early-candidates-for-fc-barcelonas-next-head-coach\"\n",
      "    },\n",
      "    {\n",
      "      \"id\": \"web-search_4\",\n",
      "      \"snippet\": \"Notifications Center\\n\\nNo Notifications to show at the moment. Check back later!\\n\\nChoose your language\\n\\nOfficial FC Barcelona Website\\n\\nMemorial FC Barcelona\\n\\nBar\\u00e7a Innovation Hub\\n\\nBar\\u00e7a Official Store Camp Nou\\n\\nDownload the official FC Barcelona App\\n\\nXavi Hern\\u00e1ndez is the new FC Barcelona coach\\n\\nFC Barcelona have reached an agreement with Xavi for him to become first team coach for the rest of the current season and two more seasons\\n\\nFC Barcelona have reached an agreement with Xavi Hern\\u00e1ndez for him to become first team coach for the rest of the current season and two more seasons. Xavi Hern\\u00e1ndez, a youth team product at Bar\\u00e7a, has left his current club, Al-Sadd of Qatar, after talks held over the last few days with the owners of the club.\\n\\nIt is expected that Xavi Hern\\u00e1ndez will arrive in Barcelona this weekend and that on Monday 8 November his presentation as new FC Barcelona first team coach will take place in an event open to the public at Camp Nou. After the event Xavi Hern\\u00e1ndez will appear in a press conference in the Ricard Maxenchs press room.\\n\\nShortly we will detail the agenda for the presentation of Xavi Hern\\u00e1ndez as the new coach of the first team.\\n\\nWant to see Xavi's Bar\\u00e7a?\\n\\nWin two tickets to see the new coach's Bar\\u00e7a team in action\\n\\nBar\\u00e7a legend: 767 games and 25 titles\\n\\nXavi is an absolute legend at FC Barcelona. His 767 appearances for the senior team were a record until he was surpassed recently by Leo Messi (778). In his 17 years in the first team (1998 to 2015), he won 25 major trophies:\\n\\nLiga: 8 (1998/99, 2004/05, 2005/06, 2008/09, 2009/10, 2010/11, 2012/13 & 2014/15) Champions League: 4 (2005/06, 2008/09, 2010/11 & 2014/15) Copa del Rey: 3 (2008/09, 2011/12 & 2014/15) Club World Cup: 2 (2009/10 & 2011/12) European Super Cups: 2 (2009/10 & 2011/12) Spanish Super Cups: 6 (2005/06, 2006/07, 2009/10, 2010/11, 2011/12 & 2013/14).\\n\\nGet ready for Xavi's return\\n\\nDress like a true culer to welcome the new coach\\n\\nHowever, in total he was at the club for 24 years, beginning as an U12 in 1991/92. One of the greatest midfield maestros of all time, he helped redefine the art with his creative mind, pinpoint passing and sublime ability to read the game. The utter brains of the team, he made up for his lack of physical might with extraordinary wits, superb skills and an extraordinary talent for governing everything that went on in the middle of the park.\\n\\nXavi Hern\\u00e1ndez top videos\\n\\nGoals, assists and skills from the FC Barcelona legend!\\n\\nLouis van Gaal gave Xavi his first team debut in 1998, and he immediately secured a regular place in the starting XI. It was under Frank Rijkaard from 2003 that he truly exploded, and under Pep Guardiola from 2008 he became regarded as one of the greatest players ever to grace the game.\\n\\nAfter Carles Puyol retired, he assumed the captaincy, and eventually departed the club in 2015. Six years later, and he is back, this time as coach, where some of his charges are former playing colleagues: Sergio Busquets, Gerard Piqu\\u00e9, Sergi Roberto, Jordi Alba and Ter Stegen.\\n\\nXavi played out the final years of his career at Al-Sadd in Qatar, and after hanging up his boots in 2019, he became the team coach. He\\u2019d only been in the position for a few months when he won the Qatari Super Cup, and also led the team to the semi-finals of the AFC Champions League.\\n\\nIn total, he coached the team to seven different trophies, three of them in 2021.\\n\\nRelated to this article\\n\\nUEFA Champions League 5 Trophies\\n\\nFIFA Club World Cup 3 Trophies\\n\\nCopa Del Rey 31 Trophies\\n\\nFollow FC Barcelona on social media\\n\\nRelated to this article\",\n",
      "      \"timestamp\": \"2024-05-21T15:19:05\",\n",
      "      \"title\": \"Xavi Hern\\u00e1ndez is the new FC Barcelona coach\",\n",
      "      \"url\": \"https://www.fcbarcelona.com/en/news/2328587/xavi-hernandez-is-the-new-fc-barcelona-coach\"\n",
      "    },\n",
      "    {\n",
      "      \"id\": \"web-search_5\",\n",
      "      \"snippet\": \"This is a BETA experience. You may opt-out by clicking here\\n\\nApr 15, 2024,03:24pm EDTFC Barcelona Receives Big Raphinha Transfer Offer, Reports SPORT\\n\\nApr 15, 2024,02:22pm EDTAll Silver Linings From A Disappointing, Rollercoaster Raptors Season\\n\\nApr 15, 2024,01:49pm EDTThe Case For Every Play-In Team To Make A Deep Playoff Run\\n\\nApr 15, 2024,01:41pm EDTSelecting The 2024 All-NBA Teams\\n\\nApr 15, 2024,01:22pm EDTSeattle Mariners\\u2019 Mighty-Mite Prospect Jonatan Clase Set To Make Debut\\n\\nApr 15, 2024,12:00pm EDTReal Madrid Plans To Sign $117 Million Rated Star In 2025, Reports OK Diario\\n\\nApr 15, 2024,09:38am EDTReal Madrid\\u2019s Squad For Their Manchester City Trip Has A Surprise\\n\\nApr 15, 2024,09:30am EDTWaterdrop Using Tennis As Global Growth Strategy As Players Invest\\n\\nForbesBusinessSportsMoney\\n\\nFC Barcelona Has Decided This Deadline To Appoint New Head Coach, Reports SPORT\\n\\nOpinions expressed by Forbes Contributors are their own.\\n\\nMar 12, 2024,04:25am EDT\\n\\nFC Barcelona has specified a timeframe to appoint a new head coach. NurPhoto via Getty Images\\n\\nFC Barcelona has specified the time period when it plans to appoint a new head coach according to SPORT, which cited anonymous sources.\\n\\nBarca and the wider sporting world already know that the Catalans won't have a manager as of June 30, after the first team's current leader Xavi Hernandez announced that he will step down on said date.\\n\\nThe legendary midfielder is approaching two-and-a-half years in the hotseat, but has struggled to maintain the Super Cup and La Liga double-winning standards of 2022/2023 this term with Barca losing the former trophy to bitter rivals Real Madrid and trailing Los Blancos in the Spanish top flight by eight points as things stand.\\n\\nXavi's former teammate Deco, who is now the club's sporting director, has been working hard in recent weeks to line up a successor and has reached out to the entourages of various prospective candidates, according to SPORT.\\n\\nAny decision on Barca's next boss will be made with Deco's overlord in president Joan Laporta, and the club plans to meet one of the chosen potential names over the upcoming international break. Simultaneously, there are representatives \\\"pushing very hard\\\" to nominate their clients despite the overbearing pressure and constant media scrutiny Xavi has blasted in press conferences since announcing his departure.\\n\\nMORE FROMFORBES ADVISOR\\n\\nBest High-Yield Savings Accounts Of 2024By\\n\\nBest 5% Interest Savings Accounts of 2024By\\n\\nLaporta is a known admirer of the German school of management and especially Jurgen Klopp. Like Xavi, the former Champions League winner is also out of work in the summer but plans to take a sabbatical following almost nine emotionally taxing years at Anfield with Liverpool.\\n\\nMore likely compatriot appointments at the Montjuic Stadium include Julian Nagelsmann, Hansi Flick or Thomas Tuchel.\\n\\nBut as SPORT says, \\\"until there are these face-to-face meetings with the coaches, nothing is certain\\\".\\n\\nEven so, Barca has still set a deadline to make a decision and that is the end of this month.\\n\\nIf someone is put in line to replace Xavi, the chosen man will then have over three months to start planning his sporting project and prepare for an expected preseason friendly tour of the United States that should also provide his first taste of El Clasico against Real Madrid.\\n\\nReprints & Permissions\",\n",
      "      \"timestamp\": \"2024-04-15T22:39:47\",\n",
      "      \"title\": \"FC Barcelona Has Decided This Deadline To Appoint New Head Coach, Reports SPORT\",\n",
      "      \"url\": \"https://www.forbes.com/sites/tomsanderson/2024/03/12/fc-barcelona-has-decided-this-deadline-to-appoint-new-head-coach-reports-sport/\"\n",
      "    }\n",
      "  ],\n",
      "  \"search_queries\": [\n",
      "    {\n",
      "      \"text\": \"Who is the coach of FC Barcelona for the next season?\",\n",
      "      \"generation_id\": \"3a4ecc9f-f7c3-446c-a16b-759fe9c7c7a5\"\n",
      "    }\n",
      "  ],\n",
      "  \"search_results\": [\n",
      "    {\n",
      "      \"search_query\": {\n",
      "        \"text\": \"Who is the coach of FC Barcelona for the next season?\",\n",
      "        \"generation_id\": \"3a4ecc9f-f7c3-446c-a16b-759fe9c7c7a5\"\n",
      "      },\n",
      "      \"connector\": {\n",
      "        \"id\": \"web-search\"\n",
      "      },\n",
      "      \"document_ids\": [\n",
      "        \"web-search_0\",\n",
      "        \"web-search_1\",\n",
      "        \"web-search_2\",\n",
      "        \"web-search_3\",\n",
      "        \"web-search_4\",\n",
      "        \"web-search_5\"\n",
      "      ]\n",
      "    }\n",
      "  ],\n",
      "  \"finish_reason\": \"COMPLETE\",\n",
      "  \"chat_history\": [\n",
      "    {\n",
      "      \"message\": \"Is Flick the new coach of FC Barcelona for the next season?\",\n",
      "      \"role\": \"USER\"\n",
      "    },\n",
      "    {\n",
      "      \"message\": \"According to sources, Xavi Hernandez will step down as the coach of FC Barcelona on June 30, 2024. Hansi Flick is one of the potential candidates to replace Xavi, but no official announcement has been made yet. Therefore, it cannot be said with certainty that Flick will be the new coach of FC Barcelona for the next season.\",\n",
      "      \"role\": \"CHATBOT\"\n",
      "    }\n",
      "  ],\n",
      "  \"meta\": {\n",
      "    \"api_version\": {\n",
      "      \"version\": \"1\"\n",
      "    },\n",
      "    \"billed_units\": {\n",
      "      \"input_tokens\": 8015,\n",
      "      \"output_tokens\": 86\n",
      "    },\n",
      "    \"tokens\": {\n",
      "      \"input_tokens\": 8744,\n",
      "      \"output_tokens\": 86\n",
      "    }\n",
      "  },\n",
      "  \"response_id\": \"1b9c450f-16d7-48c7-9cc8-8371cb40cd3a\"\n",
      "}\n"
     ]
    }
   ],
   "source": [
    "print(response.json(indent=2))"
   ]
  }
 ],
 "metadata": {
  "kernelspec": {
   "display_name": ".venv",
   "language": "python",
   "name": "python3"
  },
  "language_info": {
   "codemirror_mode": {
    "name": "ipython",
    "version": 3
   },
   "file_extension": ".py",
   "mimetype": "text/x-python",
   "name": "python",
   "nbconvert_exporter": "python",
   "pygments_lexer": "ipython3",
   "version": "3.9.6"
  }
 },
 "nbformat": 4,
 "nbformat_minor": 2
}
